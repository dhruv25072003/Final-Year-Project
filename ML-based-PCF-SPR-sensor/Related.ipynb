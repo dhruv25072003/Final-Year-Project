{
 "cells": [
  {
   "cell_type": "markdown",
   "id": "72878356",
   "metadata": {},
   "source": [
    "# ANN Regression Model for Q Factor Prediction\n",
    "\n",
    "Goal: Predict **Q factor** from input parameters:\n",
    "- radius\n",
    "- frequency\n",
    "- imaginary frequency\n",
    "\n",
    "Steps:\n",
    "1. Load and clean dataset\n",
    "2. Handle NaN and extreme values\n",
    "3. Define inputs and target (Q)\n",
    "4. Scale inputs and output\n",
    "5. Build and train ANN\n",
    "6. Evaluate predictions\n"
   ]
  },
  {
   "cell_type": "code",
   "execution_count": 17,
   "id": "23f1c066",
   "metadata": {},
   "outputs": [],
   "source": [
    "# Step 1: Imports\n",
    "import pandas as pd\n",
    "import numpy as np\n",
    "import matplotlib.pyplot as plt\n",
    "from sklearn.model_selection import train_test_split, KFold\n",
    "from sklearn.preprocessing import RobustScaler\n",
    "from sklearn.metrics import mean_squared_error, mean_absolute_error, r2_score\n",
    "from tensorflow.keras.models import Sequential\n",
    "from tensorflow.keras.layers import Dense, Dropout, BatchNormalization\n",
    "from tensorflow.keras.optimizers import Adam\n",
    "from tensorflow.keras.callbacks import ReduceLROnPlateau, EarlyStopping, ModelCheckpoint\n",
    "from tensorflow.keras import initializers\n",
    "import os\n"
   ]
  },
  {
   "cell_type": "code",
   "execution_count": 19,
   "id": "ae8050cf",
   "metadata": {},
   "outputs": [
    {
     "name": "stdout",
     "output_type": "stream",
     "text": [
      "Columns: ['radius', 'frequency', 'imag. freq.', 'Q', '|amp|', 'amplitude', 'error']\n",
      "Rows: 77\n"
     ]
    },
    {
     "data": {
      "text/html": [
       "<div>\n",
       "<style scoped>\n",
       "    .dataframe tbody tr th:only-of-type {\n",
       "        vertical-align: middle;\n",
       "    }\n",
       "\n",
       "    .dataframe tbody tr th {\n",
       "        vertical-align: top;\n",
       "    }\n",
       "\n",
       "    .dataframe thead th {\n",
       "        text-align: right;\n",
       "    }\n",
       "</style>\n",
       "<table border=\"1\" class=\"dataframe\">\n",
       "  <thead>\n",
       "    <tr style=\"text-align: right;\">\n",
       "      <th></th>\n",
       "      <th>radius</th>\n",
       "      <th>frequency</th>\n",
       "      <th>imag. freq.</th>\n",
       "      <th>Q</th>\n",
       "      <th>|amp|</th>\n",
       "      <th>amplitude</th>\n",
       "      <th>error</th>\n",
       "    </tr>\n",
       "  </thead>\n",
       "  <tbody>\n",
       "    <tr>\n",
       "      <th>0</th>\n",
       "      <td>0.2</td>\n",
       "      <td>0.303599</td>\n",
       "      <td>0.000727</td>\n",
       "      <td>-208.772433</td>\n",
       "      <td>5.977912e+276</td>\n",
       "      <td>5.898855865278432e276+9.689864272809501e275i</td>\n",
       "      <td>1.3622452412096595e-6+0.0i</td>\n",
       "    </tr>\n",
       "    <tr>\n",
       "      <th>1</th>\n",
       "      <td>0.2</td>\n",
       "      <td>0.306301</td>\n",
       "      <td>-0.000527</td>\n",
       "      <td>290.514542</td>\n",
       "      <td>1.354148e+278</td>\n",
       "      <td>1.2603522241535274e278+4.952052369147027e277i</td>\n",
       "      <td>4.181223240497839e-7+0.0i</td>\n",
       "    </tr>\n",
       "    <tr>\n",
       "      <th>2</th>\n",
       "      <td>0.2</td>\n",
       "      <td>0.312268</td>\n",
       "      <td>0.000683</td>\n",
       "      <td>-228.567784</td>\n",
       "      <td>1.622379e+277</td>\n",
       "      <td>1.6010850177669324e277-2.619949857007207e276i</td>\n",
       "      <td>1.2519721680879213e-7+0.0i</td>\n",
       "    </tr>\n",
       "    <tr>\n",
       "      <th>3</th>\n",
       "      <td>0.2</td>\n",
       "      <td>0.336625</td>\n",
       "      <td>0.000388</td>\n",
       "      <td>-433.698119</td>\n",
       "      <td>3.468056e+277</td>\n",
       "      <td>-2.2126181175200236e277-2.6705306852810074e277i</td>\n",
       "      <td>8.634043648457769e-7+0.0i</td>\n",
       "    </tr>\n",
       "    <tr>\n",
       "      <th>4</th>\n",
       "      <td>0.2</td>\n",
       "      <td>0.463804</td>\n",
       "      <td>-0.000439</td>\n",
       "      <td>528.670965</td>\n",
       "      <td>7.386721e+276</td>\n",
       "      <td>-2.4136743861435043e276+6.981248192939019e276i</td>\n",
       "      <td>1.7662076385751583e-6+0.0i</td>\n",
       "    </tr>\n",
       "  </tbody>\n",
       "</table>\n",
       "</div>"
      ],
      "text/plain": [
       "   radius  frequency  imag. freq.           Q          |amp|  \\\n",
       "0     0.2   0.303599     0.000727 -208.772433  5.977912e+276   \n",
       "1     0.2   0.306301    -0.000527  290.514542  1.354148e+278   \n",
       "2     0.2   0.312268     0.000683 -228.567784  1.622379e+277   \n",
       "3     0.2   0.336625     0.000388 -433.698119  3.468056e+277   \n",
       "4     0.2   0.463804    -0.000439  528.670965  7.386721e+276   \n",
       "\n",
       "                                          amplitude  \\\n",
       "0      5.898855865278432e276+9.689864272809501e275i   \n",
       "1     1.2603522241535274e278+4.952052369147027e277i   \n",
       "2     1.6010850177669324e277-2.619949857007207e276i   \n",
       "3   -2.2126181175200236e277-2.6705306852810074e277i   \n",
       "4    -2.4136743861435043e276+6.981248192939019e276i   \n",
       "\n",
       "                         error  \n",
       "0   1.3622452412096595e-6+0.0i  \n",
       "1    4.181223240497839e-7+0.0i  \n",
       "2   1.2519721680879213e-7+0.0i  \n",
       "3    8.634043648457769e-7+0.0i  \n",
       "4   1.7662076385751583e-6+0.0i  "
      ]
     },
     "metadata": {},
     "output_type": "display_data"
    }
   ],
   "source": [
    "# Step 2: Load and inspect the dataset\n",
    "# Put Copy of exML1(1).xlsx in the same folder / upload to Colab.\n",
    "file_path = \"exML1(1).xlsx\"\n",
    "df = pd.read_excel(file_path, sheet_name=\"Sheet1\")\n",
    "\n",
    "# Clean column names (strip spaces)\n",
    "df.columns = df.columns.str.strip()\n",
    "\n",
    "# Quick look\n",
    "print(\"Columns:\", df.columns.tolist())\n",
    "print(\"Rows:\", df.shape[0])\n",
    "display(df.head())\n"
   ]
  },
  {
   "cell_type": "code",
   "execution_count": 20,
   "id": "e52ee96d",
   "metadata": {},
   "outputs": [
    {
     "name": "stdout",
     "output_type": "stream",
     "text": [
      "NaNs per column before cleaning:\n",
      " radius         0\n",
      "frequency      0\n",
      "imag. freq.    0\n",
      "Q              0\n",
      "dtype: int64\n",
      "After dropna — rows: 77\n",
      "NaNs per column now:\n",
      " radius         0\n",
      "frequency      0\n",
      "imag. freq.    0\n",
      "Q              0\n",
      "dtype: int64\n"
     ]
    },
    {
     "data": {
      "text/plain": [
       "count      77.000000\n",
       "mean      289.482999\n",
       "std      1145.107320\n",
       "min     -1276.598324\n",
       "25%      -117.433825\n",
       "50%        70.236098\n",
       "75%       320.426417\n",
       "max      5937.684734\n",
       "Name: Q, dtype: float64"
      ]
     },
     "metadata": {},
     "output_type": "display_data"
    }
   ],
   "source": [
    "# Step 3: Basic cleaning -> drop unusable columns, parse issues, handle NaNs\n",
    "# We drop 'amplitude' and 'error' (strings/complex) because we won't use them for Q prediction.\n",
    "cols_to_drop = [c for c in ['amplitude', 'error', '|amp|'] if c in df.columns]\n",
    "if cols_to_drop:\n",
    "    df = df.drop(columns=cols_to_drop)\n",
    "\n",
    "# Check NaNs\n",
    "print(\"NaNs per column before cleaning:\\n\", df.isnull().sum())\n",
    "\n",
    "# Option A: if only a few NaNs, drop them. Otherwise you may want to impute.\n",
    "df = df.dropna(axis=0).reset_index(drop=True)\n",
    "\n",
    "print(\"After dropna — rows:\", df.shape[0])\n",
    "print(\"NaNs per column now:\\n\", df.isnull().sum())\n",
    "\n",
    "# Show basic stats for Q\n",
    "if 'Q' in df.columns:\n",
    "    display(df['Q'].describe())\n",
    "else:\n",
    "    raise RuntimeError(\"Column 'Q' not found in the sheet. Check column name.\")\n"
   ]
  },
  {
   "cell_type": "code",
   "execution_count": 21,
   "id": "645fa86a",
   "metadata": {},
   "outputs": [
    {
     "name": "stdout",
     "output_type": "stream",
     "text": [
      "Feature columns available now: ['radius', 'frequency', 'imag. freq.', 'radius^2', 'radius^3', 'frequency^2', 'frequency^3', 'imag. freq.^2', 'imag. freq.^3']\n"
     ]
    },
    {
     "data": {
      "text/html": [
       "<div>\n",
       "<style scoped>\n",
       "    .dataframe tbody tr th:only-of-type {\n",
       "        vertical-align: middle;\n",
       "    }\n",
       "\n",
       "    .dataframe tbody tr th {\n",
       "        vertical-align: top;\n",
       "    }\n",
       "\n",
       "    .dataframe thead th {\n",
       "        text-align: right;\n",
       "    }\n",
       "</style>\n",
       "<table border=\"1\" class=\"dataframe\">\n",
       "  <thead>\n",
       "    <tr style=\"text-align: right;\">\n",
       "      <th></th>\n",
       "      <th>radius</th>\n",
       "      <th>frequency</th>\n",
       "      <th>imag. freq.</th>\n",
       "      <th>Q</th>\n",
       "      <th>radius^2</th>\n",
       "      <th>radius^3</th>\n",
       "      <th>frequency^2</th>\n",
       "      <th>frequency^3</th>\n",
       "      <th>imag. freq.^2</th>\n",
       "      <th>imag. freq.^3</th>\n",
       "    </tr>\n",
       "  </thead>\n",
       "  <tbody>\n",
       "    <tr>\n",
       "      <th>0</th>\n",
       "      <td>0.2</td>\n",
       "      <td>0.303599</td>\n",
       "      <td>0.000727</td>\n",
       "      <td>-208.772433</td>\n",
       "      <td>0.04</td>\n",
       "      <td>0.008</td>\n",
       "      <td>0.092172</td>\n",
       "      <td>0.027983</td>\n",
       "      <td>5.286805e-07</td>\n",
       "      <td>3.844058e-10</td>\n",
       "    </tr>\n",
       "    <tr>\n",
       "      <th>1</th>\n",
       "      <td>0.2</td>\n",
       "      <td>0.306301</td>\n",
       "      <td>-0.000527</td>\n",
       "      <td>290.514542</td>\n",
       "      <td>0.04</td>\n",
       "      <td>0.008</td>\n",
       "      <td>0.093820</td>\n",
       "      <td>0.028737</td>\n",
       "      <td>2.779072e-07</td>\n",
       "      <td>-1.465040e-10</td>\n",
       "    </tr>\n",
       "    <tr>\n",
       "      <th>2</th>\n",
       "      <td>0.2</td>\n",
       "      <td>0.312268</td>\n",
       "      <td>0.000683</td>\n",
       "      <td>-228.567784</td>\n",
       "      <td>0.04</td>\n",
       "      <td>0.008</td>\n",
       "      <td>0.097511</td>\n",
       "      <td>0.030450</td>\n",
       "      <td>4.666215e-07</td>\n",
       "      <td>3.187477e-10</td>\n",
       "    </tr>\n",
       "    <tr>\n",
       "      <th>3</th>\n",
       "      <td>0.2</td>\n",
       "      <td>0.336625</td>\n",
       "      <td>0.000388</td>\n",
       "      <td>-433.698119</td>\n",
       "      <td>0.04</td>\n",
       "      <td>0.008</td>\n",
       "      <td>0.113316</td>\n",
       "      <td>0.038145</td>\n",
       "      <td>1.506110e-07</td>\n",
       "      <td>5.845009e-11</td>\n",
       "    </tr>\n",
       "    <tr>\n",
       "      <th>4</th>\n",
       "      <td>0.2</td>\n",
       "      <td>0.463804</td>\n",
       "      <td>-0.000439</td>\n",
       "      <td>528.670965</td>\n",
       "      <td>0.04</td>\n",
       "      <td>0.008</td>\n",
       "      <td>0.215114</td>\n",
       "      <td>0.099771</td>\n",
       "      <td>1.924146e-07</td>\n",
       "      <td>-8.440280e-11</td>\n",
       "    </tr>\n",
       "  </tbody>\n",
       "</table>\n",
       "</div>"
      ],
      "text/plain": [
       "   radius  frequency  imag. freq.           Q  radius^2  radius^3  \\\n",
       "0     0.2   0.303599     0.000727 -208.772433      0.04     0.008   \n",
       "1     0.2   0.306301    -0.000527  290.514542      0.04     0.008   \n",
       "2     0.2   0.312268     0.000683 -228.567784      0.04     0.008   \n",
       "3     0.2   0.336625     0.000388 -433.698119      0.04     0.008   \n",
       "4     0.2   0.463804    -0.000439  528.670965      0.04     0.008   \n",
       "\n",
       "   frequency^2  frequency^3  imag. freq.^2  imag. freq.^3  \n",
       "0     0.092172     0.027983   5.286805e-07   3.844058e-10  \n",
       "1     0.093820     0.028737   2.779072e-07  -1.465040e-10  \n",
       "2     0.097511     0.030450   4.666215e-07   3.187477e-10  \n",
       "3     0.113316     0.038145   1.506110e-07   5.845009e-11  \n",
       "4     0.215114     0.099771   1.924146e-07  -8.440280e-11  "
      ]
     },
     "metadata": {},
     "output_type": "display_data"
    }
   ],
   "source": [
    "# Step 4: Feature engineering (polynomial features up to 3rd power)\n",
    "# Input features we will use: ['radius','frequency','imag. freq.']\n",
    "# Add squared and cubic versions to help the NN capture non-linear relations.\n",
    "\n",
    "df = df.copy()\n",
    "feat_base = ['radius', 'frequency', 'imag. freq.']\n",
    "for f in feat_base:\n",
    "    df[f\"{f}^2\"] = df[f] ** 2\n",
    "    df[f\"{f}^3\"] = df[f] ** 3\n",
    "\n",
    "# Show the new columns\n",
    "print(\"Feature columns available now:\", [c for c in df.columns if c not in ['Q']][:20])\n",
    "display(df.head())\n"
   ]
  },
  {
   "cell_type": "code",
   "execution_count": 22,
   "id": "05a0c5f0",
   "metadata": {},
   "outputs": [
    {
     "name": "stdout",
     "output_type": "stream",
     "text": [
      "Q range: -1276.59832406523 5937.68473419631\n"
     ]
    }
   ],
   "source": [
    "# Step 5: Prepare X and y\n",
    "X_cols = [\n",
    "    'radius', 'frequency', 'imag. freq.',\n",
    "    'radius^2', 'frequency^2', 'imag. freq.^2',\n",
    "    'radius^3', 'frequency^3', 'imag. freq.^3'\n",
    "]\n",
    "# Note: above column names must match exactly. If your sheet used different names, adapt them.\n",
    "X = df[X_cols].values\n",
    "y_raw = df[['Q']].values  # shape (N,1)\n",
    "\n",
    "# Optional: inspect y range to decide on log-transform\n",
    "print(\"Q range:\", np.nanmin(y_raw), np.nanmax(y_raw))\n"
   ]
  },
  {
   "cell_type": "code",
   "execution_count": 23,
   "id": "baacda73",
   "metadata": {},
   "outputs": [
    {
     "name": "stdout",
     "output_type": "stream",
     "text": [
      "Q contains values <= -1. Shifting by 1277.59832406523 before log1p.\n",
      "Transformed y shape: (77, 1)\n"
     ]
    }
   ],
   "source": [
    "# Step 6: Stabilize target: log transform if Q spans wide range or has large outliers.\n",
    "# We'll use log1p (log(1 + Q)) to allow Q=0 safely. If Q has negative values, we must handle them.\n",
    "if np.any(y_raw <= -1):\n",
    "    # negative values are tricky for log; let's shift if necessary by adding a constant:\n",
    "    min_val = y_raw.min()\n",
    "    shift = abs(min_val) + 1.0\n",
    "    print(f\"Q contains values <= -1. Shifting by {shift} before log1p.\")\n",
    "    y = np.log1p(y_raw + shift)\n",
    "    y_shift_info = shift\n",
    "else:\n",
    "    y = np.log1p(y_raw)   # y = log(1 + Q)\n",
    "    y_shift_info = 0.0\n",
    "\n",
    "print(\"Transformed y shape:\", y.shape)\n"
   ]
  },
  {
   "cell_type": "code",
   "execution_count": 24,
   "id": "715d1ab3",
   "metadata": {},
   "outputs": [
    {
     "name": "stdout",
     "output_type": "stream",
     "text": [
      "Shapes: (61, 9) (16, 9) (61, 1) (16, 1)\n"
     ]
    }
   ],
   "source": [
    "# Step 7: Train-test split and scaling\n",
    "X_train, X_test, y_train, y_test = train_test_split(X, y, test_size=0.20, random_state=42)\n",
    "\n",
    "scaler_X = RobustScaler()  # robust to outliers\n",
    "scaler_y = RobustScaler()\n",
    "\n",
    "X_train = scaler_X.fit_transform(X_train)\n",
    "X_test = scaler_X.transform(X_test)\n",
    "\n",
    "y_train = scaler_y.fit_transform(y_train)\n",
    "y_test = scaler_y.transform(y_test)\n",
    "\n",
    "print(\"Shapes:\", X_train.shape, X_test.shape, y_train.shape, y_test.shape)\n"
   ]
  },
  {
   "cell_type": "code",
   "execution_count": 25,
   "id": "efc4c161",
   "metadata": {},
   "outputs": [
    {
     "name": "stderr",
     "output_type": "stream",
     "text": [
      "c:\\Users\\dskum\\Python\\deeplearning\\langchain\\venv\\lib\\site-packages\\keras\\src\\layers\\core\\dense.py:92: UserWarning: Do not pass an `input_shape`/`input_dim` argument to a layer. When using Sequential models, prefer using an `Input(shape)` object as the first layer in the model instead.\n",
      "  super().__init__(activity_regularizer=activity_regularizer, **kwargs)\n"
     ]
    },
    {
     "data": {
      "text/html": [
       "<pre style=\"white-space:pre;overflow-x:auto;line-height:normal;font-family:Menlo,'DejaVu Sans Mono',consolas,'Courier New',monospace\"><span style=\"font-weight: bold\">Model: \"sequential_1\"</span>\n",
       "</pre>\n"
      ],
      "text/plain": [
       "\u001b[1mModel: \"sequential_1\"\u001b[0m\n"
      ]
     },
     "metadata": {},
     "output_type": "display_data"
    },
    {
     "data": {
      "text/html": [
       "<pre style=\"white-space:pre;overflow-x:auto;line-height:normal;font-family:Menlo,'DejaVu Sans Mono',consolas,'Courier New',monospace\">┏━━━━━━━━━━━━━━━━━━━━━━━━━━━━━━━━━┳━━━━━━━━━━━━━━━━━━━━━━━━┳━━━━━━━━━━━━━━━┓\n",
       "┃<span style=\"font-weight: bold\"> Layer (type)                    </span>┃<span style=\"font-weight: bold\"> Output Shape           </span>┃<span style=\"font-weight: bold\">       Param # </span>┃\n",
       "┡━━━━━━━━━━━━━━━━━━━━━━━━━━━━━━━━━╇━━━━━━━━━━━━━━━━━━━━━━━━╇━━━━━━━━━━━━━━━┩\n",
       "│ dense_4 (<span style=\"color: #0087ff; text-decoration-color: #0087ff\">Dense</span>)                 │ (<span style=\"color: #00d7ff; text-decoration-color: #00d7ff\">None</span>, <span style=\"color: #00af00; text-decoration-color: #00af00\">64</span>)             │           <span style=\"color: #00af00; text-decoration-color: #00af00\">640</span> │\n",
       "├─────────────────────────────────┼────────────────────────┼───────────────┤\n",
       "│ batch_normalization             │ (<span style=\"color: #00d7ff; text-decoration-color: #00d7ff\">None</span>, <span style=\"color: #00af00; text-decoration-color: #00af00\">64</span>)             │           <span style=\"color: #00af00; text-decoration-color: #00af00\">256</span> │\n",
       "│ (<span style=\"color: #0087ff; text-decoration-color: #0087ff\">BatchNormalization</span>)            │                        │               │\n",
       "├─────────────────────────────────┼────────────────────────┼───────────────┤\n",
       "│ dropout (<span style=\"color: #0087ff; text-decoration-color: #0087ff\">Dropout</span>)               │ (<span style=\"color: #00d7ff; text-decoration-color: #00d7ff\">None</span>, <span style=\"color: #00af00; text-decoration-color: #00af00\">64</span>)             │             <span style=\"color: #00af00; text-decoration-color: #00af00\">0</span> │\n",
       "├─────────────────────────────────┼────────────────────────┼───────────────┤\n",
       "│ dense_5 (<span style=\"color: #0087ff; text-decoration-color: #0087ff\">Dense</span>)                 │ (<span style=\"color: #00d7ff; text-decoration-color: #00d7ff\">None</span>, <span style=\"color: #00af00; text-decoration-color: #00af00\">128</span>)            │         <span style=\"color: #00af00; text-decoration-color: #00af00\">8,320</span> │\n",
       "├─────────────────────────────────┼────────────────────────┼───────────────┤\n",
       "│ batch_normalization_1           │ (<span style=\"color: #00d7ff; text-decoration-color: #00d7ff\">None</span>, <span style=\"color: #00af00; text-decoration-color: #00af00\">128</span>)            │           <span style=\"color: #00af00; text-decoration-color: #00af00\">512</span> │\n",
       "│ (<span style=\"color: #0087ff; text-decoration-color: #0087ff\">BatchNormalization</span>)            │                        │               │\n",
       "├─────────────────────────────────┼────────────────────────┼───────────────┤\n",
       "│ dropout_1 (<span style=\"color: #0087ff; text-decoration-color: #0087ff\">Dropout</span>)             │ (<span style=\"color: #00d7ff; text-decoration-color: #00d7ff\">None</span>, <span style=\"color: #00af00; text-decoration-color: #00af00\">128</span>)            │             <span style=\"color: #00af00; text-decoration-color: #00af00\">0</span> │\n",
       "├─────────────────────────────────┼────────────────────────┼───────────────┤\n",
       "│ dense_6 (<span style=\"color: #0087ff; text-decoration-color: #0087ff\">Dense</span>)                 │ (<span style=\"color: #00d7ff; text-decoration-color: #00d7ff\">None</span>, <span style=\"color: #00af00; text-decoration-color: #00af00\">64</span>)             │         <span style=\"color: #00af00; text-decoration-color: #00af00\">8,256</span> │\n",
       "├─────────────────────────────────┼────────────────────────┼───────────────┤\n",
       "│ batch_normalization_2           │ (<span style=\"color: #00d7ff; text-decoration-color: #00d7ff\">None</span>, <span style=\"color: #00af00; text-decoration-color: #00af00\">64</span>)             │           <span style=\"color: #00af00; text-decoration-color: #00af00\">256</span> │\n",
       "│ (<span style=\"color: #0087ff; text-decoration-color: #0087ff\">BatchNormalization</span>)            │                        │               │\n",
       "├─────────────────────────────────┼────────────────────────┼───────────────┤\n",
       "│ dropout_2 (<span style=\"color: #0087ff; text-decoration-color: #0087ff\">Dropout</span>)             │ (<span style=\"color: #00d7ff; text-decoration-color: #00d7ff\">None</span>, <span style=\"color: #00af00; text-decoration-color: #00af00\">64</span>)             │             <span style=\"color: #00af00; text-decoration-color: #00af00\">0</span> │\n",
       "├─────────────────────────────────┼────────────────────────┼───────────────┤\n",
       "│ dense_7 (<span style=\"color: #0087ff; text-decoration-color: #0087ff\">Dense</span>)                 │ (<span style=\"color: #00d7ff; text-decoration-color: #00d7ff\">None</span>, <span style=\"color: #00af00; text-decoration-color: #00af00\">1</span>)              │            <span style=\"color: #00af00; text-decoration-color: #00af00\">65</span> │\n",
       "└─────────────────────────────────┴────────────────────────┴───────────────┘\n",
       "</pre>\n"
      ],
      "text/plain": [
       "┏━━━━━━━━━━━━━━━━━━━━━━━━━━━━━━━━━┳━━━━━━━━━━━━━━━━━━━━━━━━┳━━━━━━━━━━━━━━━┓\n",
       "┃\u001b[1m \u001b[0m\u001b[1mLayer (type)                   \u001b[0m\u001b[1m \u001b[0m┃\u001b[1m \u001b[0m\u001b[1mOutput Shape          \u001b[0m\u001b[1m \u001b[0m┃\u001b[1m \u001b[0m\u001b[1m      Param #\u001b[0m\u001b[1m \u001b[0m┃\n",
       "┡━━━━━━━━━━━━━━━━━━━━━━━━━━━━━━━━━╇━━━━━━━━━━━━━━━━━━━━━━━━╇━━━━━━━━━━━━━━━┩\n",
       "│ dense_4 (\u001b[38;5;33mDense\u001b[0m)                 │ (\u001b[38;5;45mNone\u001b[0m, \u001b[38;5;34m64\u001b[0m)             │           \u001b[38;5;34m640\u001b[0m │\n",
       "├─────────────────────────────────┼────────────────────────┼───────────────┤\n",
       "│ batch_normalization             │ (\u001b[38;5;45mNone\u001b[0m, \u001b[38;5;34m64\u001b[0m)             │           \u001b[38;5;34m256\u001b[0m │\n",
       "│ (\u001b[38;5;33mBatchNormalization\u001b[0m)            │                        │               │\n",
       "├─────────────────────────────────┼────────────────────────┼───────────────┤\n",
       "│ dropout (\u001b[38;5;33mDropout\u001b[0m)               │ (\u001b[38;5;45mNone\u001b[0m, \u001b[38;5;34m64\u001b[0m)             │             \u001b[38;5;34m0\u001b[0m │\n",
       "├─────────────────────────────────┼────────────────────────┼───────────────┤\n",
       "│ dense_5 (\u001b[38;5;33mDense\u001b[0m)                 │ (\u001b[38;5;45mNone\u001b[0m, \u001b[38;5;34m128\u001b[0m)            │         \u001b[38;5;34m8,320\u001b[0m │\n",
       "├─────────────────────────────────┼────────────────────────┼───────────────┤\n",
       "│ batch_normalization_1           │ (\u001b[38;5;45mNone\u001b[0m, \u001b[38;5;34m128\u001b[0m)            │           \u001b[38;5;34m512\u001b[0m │\n",
       "│ (\u001b[38;5;33mBatchNormalization\u001b[0m)            │                        │               │\n",
       "├─────────────────────────────────┼────────────────────────┼───────────────┤\n",
       "│ dropout_1 (\u001b[38;5;33mDropout\u001b[0m)             │ (\u001b[38;5;45mNone\u001b[0m, \u001b[38;5;34m128\u001b[0m)            │             \u001b[38;5;34m0\u001b[0m │\n",
       "├─────────────────────────────────┼────────────────────────┼───────────────┤\n",
       "│ dense_6 (\u001b[38;5;33mDense\u001b[0m)                 │ (\u001b[38;5;45mNone\u001b[0m, \u001b[38;5;34m64\u001b[0m)             │         \u001b[38;5;34m8,256\u001b[0m │\n",
       "├─────────────────────────────────┼────────────────────────┼───────────────┤\n",
       "│ batch_normalization_2           │ (\u001b[38;5;45mNone\u001b[0m, \u001b[38;5;34m64\u001b[0m)             │           \u001b[38;5;34m256\u001b[0m │\n",
       "│ (\u001b[38;5;33mBatchNormalization\u001b[0m)            │                        │               │\n",
       "├─────────────────────────────────┼────────────────────────┼───────────────┤\n",
       "│ dropout_2 (\u001b[38;5;33mDropout\u001b[0m)             │ (\u001b[38;5;45mNone\u001b[0m, \u001b[38;5;34m64\u001b[0m)             │             \u001b[38;5;34m0\u001b[0m │\n",
       "├─────────────────────────────────┼────────────────────────┼───────────────┤\n",
       "│ dense_7 (\u001b[38;5;33mDense\u001b[0m)                 │ (\u001b[38;5;45mNone\u001b[0m, \u001b[38;5;34m1\u001b[0m)              │            \u001b[38;5;34m65\u001b[0m │\n",
       "└─────────────────────────────────┴────────────────────────┴───────────────┘\n"
      ]
     },
     "metadata": {},
     "output_type": "display_data"
    },
    {
     "data": {
      "text/html": [
       "<pre style=\"white-space:pre;overflow-x:auto;line-height:normal;font-family:Menlo,'DejaVu Sans Mono',consolas,'Courier New',monospace\"><span style=\"font-weight: bold\"> Total params: </span><span style=\"color: #00af00; text-decoration-color: #00af00\">18,305</span> (71.50 KB)\n",
       "</pre>\n"
      ],
      "text/plain": [
       "\u001b[1m Total params: \u001b[0m\u001b[38;5;34m18,305\u001b[0m (71.50 KB)\n"
      ]
     },
     "metadata": {},
     "output_type": "display_data"
    },
    {
     "data": {
      "text/html": [
       "<pre style=\"white-space:pre;overflow-x:auto;line-height:normal;font-family:Menlo,'DejaVu Sans Mono',consolas,'Courier New',monospace\"><span style=\"font-weight: bold\"> Trainable params: </span><span style=\"color: #00af00; text-decoration-color: #00af00\">17,793</span> (69.50 KB)\n",
       "</pre>\n"
      ],
      "text/plain": [
       "\u001b[1m Trainable params: \u001b[0m\u001b[38;5;34m17,793\u001b[0m (69.50 KB)\n"
      ]
     },
     "metadata": {},
     "output_type": "display_data"
    },
    {
     "data": {
      "text/html": [
       "<pre style=\"white-space:pre;overflow-x:auto;line-height:normal;font-family:Menlo,'DejaVu Sans Mono',consolas,'Courier New',monospace\"><span style=\"font-weight: bold\"> Non-trainable params: </span><span style=\"color: #00af00; text-decoration-color: #00af00\">512</span> (2.00 KB)\n",
       "</pre>\n"
      ],
      "text/plain": [
       "\u001b[1m Non-trainable params: \u001b[0m\u001b[38;5;34m512\u001b[0m (2.00 KB)\n"
      ]
     },
     "metadata": {},
     "output_type": "display_data"
    }
   ],
   "source": [
    "# Step 8: Build improved ANN model function (to reuse)\n",
    "def build_model(input_dim, lr=5e-4, dropout_rate=0.2, init_std=0.05):\n",
    "    init = initializers.RandomNormal(stddev=init_std)\n",
    "    model = Sequential([\n",
    "        Dense(64, activation='relu', input_dim=input_dim, kernel_initializer=init),\n",
    "        BatchNormalization(),\n",
    "        Dropout(dropout_rate),\n",
    "\n",
    "        Dense(128, activation='relu', kernel_initializer=init),\n",
    "        BatchNormalization(),\n",
    "        Dropout(dropout_rate),\n",
    "\n",
    "        Dense(64, activation='relu', kernel_initializer=init),\n",
    "        BatchNormalization(),\n",
    "        Dropout(dropout_rate),\n",
    "\n",
    "        Dense(1, kernel_initializer=init)  # single output (transformed log-Q)\n",
    "    ])\n",
    "    opt = Adam(learning_rate=lr)\n",
    "    model.compile(optimizer=opt, loss='mse', metrics=['mse'])\n",
    "    return model\n",
    "\n",
    "# Build the model\n",
    "model = build_model(X_train.shape[1], lr=5e-4, dropout_rate=0.15, init_std=0.05)\n",
    "model.summary()\n"
   ]
  },
  {
   "cell_type": "code",
   "execution_count": 26,
   "id": "67a7e6e9",
   "metadata": {},
   "outputs": [],
   "source": [
    "# Step 9: Callbacks for training\n",
    "# Reduce LR when validation plateaus; early stop to avoid overfitting; checkpoint to save best model.\n",
    "callbacks = [\n",
    "    ReduceLROnPlateau(monitor='val_loss', factor=0.5, patience=12, min_lr=1e-7, verbose=1),\n",
    "    EarlyStopping(monitor='val_loss', patience=25, restore_best_weights=True, verbose=1),\n",
    "    ModelCheckpoint(\"best_q_model.h5\", monitor='val_loss', save_best_only=True, verbose=1)\n",
    "]\n"
   ]
  },
  {
   "cell_type": "code",
   "execution_count": 27,
   "id": "fb0375cd",
   "metadata": {},
   "outputs": [
    {
     "name": "stdout",
     "output_type": "stream",
     "text": [
      "Epoch 1/300\n",
      "\u001b[1m1/4\u001b[0m \u001b[32m━━━━━\u001b[0m\u001b[37m━━━━━━━━━━━━━━━\u001b[0m \u001b[1m4s\u001b[0m 2s/step - loss: 4.0922 - mse: 4.0922\n",
      "Epoch 1: val_loss improved from None to 1.80279, saving model to best_q_model.h5\n"
     ]
    },
    {
     "name": "stderr",
     "output_type": "stream",
     "text": [
      "WARNING:absl:You are saving your model as an HDF5 file via `model.save()` or `keras.saving.save_model(model)`. This file format is considered legacy. We recommend using instead the native Keras format, e.g. `model.save('my_model.keras')` or `keras.saving.save_model(model, 'my_model.keras')`. \n"
     ]
    },
    {
     "name": "stdout",
     "output_type": "stream",
     "text": [
      "\u001b[1m4/4\u001b[0m \u001b[32m━━━━━━━━━━━━━━━━━━━━\u001b[0m\u001b[37m\u001b[0m \u001b[1m2s\u001b[0m 94ms/step - loss: 2.6464 - mse: 2.6464 - val_loss: 1.8028 - val_mse: 1.8028 - learning_rate: 5.0000e-04\n",
      "Epoch 2/300\n",
      "\u001b[1m1/4\u001b[0m \u001b[32m━━━━━\u001b[0m\u001b[37m━━━━━━━━━━━━━━━\u001b[0m \u001b[1m0s\u001b[0m 30ms/step - loss: 1.7083 - mse: 1.7083\n",
      "Epoch 2: val_loss improved from 1.80279 to 1.80185, saving model to best_q_model.h5\n"
     ]
    },
    {
     "name": "stderr",
     "output_type": "stream",
     "text": [
      "WARNING:absl:You are saving your model as an HDF5 file via `model.save()` or `keras.saving.save_model(model)`. This file format is considered legacy. We recommend using instead the native Keras format, e.g. `model.save('my_model.keras')` or `keras.saving.save_model(model, 'my_model.keras')`. \n"
     ]
    },
    {
     "name": "stdout",
     "output_type": "stream",
     "text": [
      "\u001b[1m4/4\u001b[0m \u001b[32m━━━━━━━━━━━━━━━━━━━━\u001b[0m\u001b[37m\u001b[0m \u001b[1m0s\u001b[0m 41ms/step - loss: 2.3077 - mse: 2.3077 - val_loss: 1.8019 - val_mse: 1.8019 - learning_rate: 5.0000e-04\n",
      "Epoch 3/300\n",
      "\u001b[1m1/4\u001b[0m \u001b[32m━━━━━\u001b[0m\u001b[37m━━━━━━━━━━━━━━━\u001b[0m \u001b[1m0s\u001b[0m 28ms/step - loss: 2.0306 - mse: 2.0306\n",
      "Epoch 3: val_loss did not improve from 1.80185\n",
      "\u001b[1m4/4\u001b[0m \u001b[32m━━━━━━━━━━━━━━━━━━━━\u001b[0m\u001b[37m\u001b[0m \u001b[1m0s\u001b[0m 26ms/step - loss: 2.1992 - mse: 2.1992 - val_loss: 1.8019 - val_mse: 1.8019 - learning_rate: 5.0000e-04\n",
      "Epoch 4/300\n",
      "\u001b[1m1/4\u001b[0m \u001b[32m━━━━━\u001b[0m\u001b[37m━━━━━━━━━━━━━━━\u001b[0m \u001b[1m0s\u001b[0m 42ms/step - loss: 3.1835 - mse: 3.1835\n",
      "Epoch 4: val_loss did not improve from 1.80185\n",
      "\u001b[1m4/4\u001b[0m \u001b[32m━━━━━━━━━━━━━━━━━━━━\u001b[0m\u001b[37m\u001b[0m \u001b[1m0s\u001b[0m 26ms/step - loss: 2.3406 - mse: 2.3406 - val_loss: 1.8019 - val_mse: 1.8019 - learning_rate: 5.0000e-04\n",
      "Epoch 5/300\n",
      "\u001b[1m1/4\u001b[0m \u001b[32m━━━━━\u001b[0m\u001b[37m━━━━━━━━━━━━━━━\u001b[0m \u001b[1m0s\u001b[0m 71ms/step - loss: 4.0075 - mse: 4.0075\n",
      "Epoch 5: val_loss did not improve from 1.80185\n",
      "\u001b[1m4/4\u001b[0m \u001b[32m━━━━━━━━━━━━━━━━━━━━\u001b[0m\u001b[37m\u001b[0m \u001b[1m0s\u001b[0m 23ms/step - loss: 2.5492 - mse: 2.5492 - val_loss: 1.8024 - val_mse: 1.8024 - learning_rate: 5.0000e-04\n",
      "Epoch 6/300\n",
      "\u001b[1m1/4\u001b[0m \u001b[32m━━━━━\u001b[0m\u001b[37m━━━━━━━━━━━━━━━\u001b[0m \u001b[1m0s\u001b[0m 32ms/step - loss: 3.6777 - mse: 3.6777\n",
      "Epoch 6: val_loss did not improve from 1.80185\n",
      "\u001b[1m4/4\u001b[0m \u001b[32m━━━━━━━━━━━━━━━━━━━━\u001b[0m\u001b[37m\u001b[0m \u001b[1m0s\u001b[0m 28ms/step - loss: 2.2158 - mse: 2.2158 - val_loss: 1.8019 - val_mse: 1.8019 - learning_rate: 5.0000e-04\n",
      "Epoch 7/300\n",
      "\u001b[1m1/4\u001b[0m \u001b[32m━━━━━\u001b[0m\u001b[37m━━━━━━━━━━━━━━━\u001b[0m \u001b[1m0s\u001b[0m 29ms/step - loss: 1.5586 - mse: 1.5586\n",
      "Epoch 7: val_loss improved from 1.80185 to 1.80166, saving model to best_q_model.h5\n"
     ]
    },
    {
     "name": "stderr",
     "output_type": "stream",
     "text": [
      "WARNING:absl:You are saving your model as an HDF5 file via `model.save()` or `keras.saving.save_model(model)`. This file format is considered legacy. We recommend using instead the native Keras format, e.g. `model.save('my_model.keras')` or `keras.saving.save_model(model, 'my_model.keras')`. \n"
     ]
    },
    {
     "name": "stdout",
     "output_type": "stream",
     "text": [
      "\u001b[1m4/4\u001b[0m \u001b[32m━━━━━━━━━━━━━━━━━━━━\u001b[0m\u001b[37m\u001b[0m \u001b[1m0s\u001b[0m 38ms/step - loss: 2.2907 - mse: 2.2907 - val_loss: 1.8017 - val_mse: 1.8017 - learning_rate: 5.0000e-04\n",
      "Epoch 8/300\n",
      "\u001b[1m1/4\u001b[0m \u001b[32m━━━━━\u001b[0m\u001b[37m━━━━━━━━━━━━━━━\u001b[0m \u001b[1m0s\u001b[0m 22ms/step - loss: 1.5993 - mse: 1.5993\n",
      "Epoch 8: val_loss improved from 1.80166 to 1.80094, saving model to best_q_model.h5\n"
     ]
    },
    {
     "name": "stderr",
     "output_type": "stream",
     "text": [
      "WARNING:absl:You are saving your model as an HDF5 file via `model.save()` or `keras.saving.save_model(model)`. This file format is considered legacy. We recommend using instead the native Keras format, e.g. `model.save('my_model.keras')` or `keras.saving.save_model(model, 'my_model.keras')`. \n"
     ]
    },
    {
     "name": "stdout",
     "output_type": "stream",
     "text": [
      "\u001b[1m4/4\u001b[0m \u001b[32m━━━━━━━━━━━━━━━━━━━━\u001b[0m\u001b[37m\u001b[0m \u001b[1m0s\u001b[0m 41ms/step - loss: 1.9717 - mse: 1.9717 - val_loss: 1.8009 - val_mse: 1.8009 - learning_rate: 5.0000e-04\n",
      "Epoch 9/300\n",
      "\u001b[1m1/4\u001b[0m \u001b[32m━━━━━\u001b[0m\u001b[37m━━━━━━━━━━━━━━━\u001b[0m \u001b[1m0s\u001b[0m 31ms/step - loss: 0.6392 - mse: 0.6392\n",
      "Epoch 9: val_loss did not improve from 1.80094\n",
      "\u001b[1m4/4\u001b[0m \u001b[32m━━━━━━━━━━━━━━━━━━━━\u001b[0m\u001b[37m\u001b[0m \u001b[1m0s\u001b[0m 22ms/step - loss: 2.2828 - mse: 2.2828 - val_loss: 1.8013 - val_mse: 1.8013 - learning_rate: 5.0000e-04\n",
      "Epoch 10/300\n",
      "\u001b[1m1/4\u001b[0m \u001b[32m━━━━━\u001b[0m\u001b[37m━━━━━━━━━━━━━━━\u001b[0m \u001b[1m0s\u001b[0m 33ms/step - loss: 1.6854 - mse: 1.6854\n",
      "Epoch 10: val_loss did not improve from 1.80094\n",
      "\u001b[1m4/4\u001b[0m \u001b[32m━━━━━━━━━━━━━━━━━━━━\u001b[0m\u001b[37m\u001b[0m \u001b[1m0s\u001b[0m 23ms/step - loss: 2.1928 - mse: 2.1928 - val_loss: 1.8018 - val_mse: 1.8018 - learning_rate: 5.0000e-04\n",
      "Epoch 11/300\n",
      "\u001b[1m1/4\u001b[0m \u001b[32m━━━━━\u001b[0m\u001b[37m━━━━━━━━━━━━━━━\u001b[0m \u001b[1m0s\u001b[0m 32ms/step - loss: 0.3005 - mse: 0.3005\n",
      "Epoch 11: val_loss did not improve from 1.80094\n",
      "\u001b[1m4/4\u001b[0m \u001b[32m━━━━━━━━━━━━━━━━━━━━\u001b[0m\u001b[37m\u001b[0m \u001b[1m0s\u001b[0m 21ms/step - loss: 2.0214 - mse: 2.0214 - val_loss: 1.8018 - val_mse: 1.8018 - learning_rate: 5.0000e-04\n",
      "Epoch 12/300\n",
      "\u001b[1m1/4\u001b[0m \u001b[32m━━━━━\u001b[0m\u001b[37m━━━━━━━━━━━━━━━\u001b[0m \u001b[1m0s\u001b[0m 32ms/step - loss: 1.5930 - mse: 1.5930\n",
      "Epoch 12: val_loss did not improve from 1.80094\n",
      "\u001b[1m4/4\u001b[0m \u001b[32m━━━━━━━━━━━━━━━━━━━━\u001b[0m\u001b[37m\u001b[0m \u001b[1m0s\u001b[0m 22ms/step - loss: 2.1331 - mse: 2.1331 - val_loss: 1.8015 - val_mse: 1.8015 - learning_rate: 5.0000e-04\n",
      "Epoch 13/300\n",
      "\u001b[1m1/4\u001b[0m \u001b[32m━━━━━\u001b[0m\u001b[37m━━━━━━━━━━━━━━━\u001b[0m \u001b[1m0s\u001b[0m 22ms/step - loss: 0.6119 - mse: 0.6119\n",
      "Epoch 13: val_loss did not improve from 1.80094\n",
      "\u001b[1m4/4\u001b[0m \u001b[32m━━━━━━━━━━━━━━━━━━━━\u001b[0m\u001b[37m\u001b[0m \u001b[1m0s\u001b[0m 20ms/step - loss: 2.0263 - mse: 2.0263 - val_loss: 1.8010 - val_mse: 1.8010 - learning_rate: 5.0000e-04\n",
      "Epoch 14/300\n",
      "\u001b[1m1/4\u001b[0m \u001b[32m━━━━━\u001b[0m\u001b[37m━━━━━━━━━━━━━━━\u001b[0m \u001b[1m0s\u001b[0m 37ms/step - loss: 1.9900 - mse: 1.9900\n",
      "Epoch 14: val_loss improved from 1.80094 to 1.80060, saving model to best_q_model.h5\n"
     ]
    },
    {
     "name": "stderr",
     "output_type": "stream",
     "text": [
      "WARNING:absl:You are saving your model as an HDF5 file via `model.save()` or `keras.saving.save_model(model)`. This file format is considered legacy. We recommend using instead the native Keras format, e.g. `model.save('my_model.keras')` or `keras.saving.save_model(model, 'my_model.keras')`. \n"
     ]
    },
    {
     "name": "stdout",
     "output_type": "stream",
     "text": [
      "\u001b[1m4/4\u001b[0m \u001b[32m━━━━━━━━━━━━━━━━━━━━\u001b[0m\u001b[37m\u001b[0m \u001b[1m0s\u001b[0m 43ms/step - loss: 1.7609 - mse: 1.7609 - val_loss: 1.8006 - val_mse: 1.8006 - learning_rate: 5.0000e-04\n",
      "Epoch 15/300\n",
      "\u001b[1m1/4\u001b[0m \u001b[32m━━━━━\u001b[0m\u001b[37m━━━━━━━━━━━━━━━\u001b[0m \u001b[1m0s\u001b[0m 27ms/step - loss: 1.2496 - mse: 1.2496\n",
      "Epoch 15: val_loss improved from 1.80060 to 1.80004, saving model to best_q_model.h5\n"
     ]
    },
    {
     "name": "stderr",
     "output_type": "stream",
     "text": [
      "WARNING:absl:You are saving your model as an HDF5 file via `model.save()` or `keras.saving.save_model(model)`. This file format is considered legacy. We recommend using instead the native Keras format, e.g. `model.save('my_model.keras')` or `keras.saving.save_model(model, 'my_model.keras')`. \n"
     ]
    },
    {
     "name": "stdout",
     "output_type": "stream",
     "text": [
      "\u001b[1m4/4\u001b[0m \u001b[32m━━━━━━━━━━━━━━━━━━━━\u001b[0m\u001b[37m\u001b[0m \u001b[1m0s\u001b[0m 41ms/step - loss: 2.1155 - mse: 2.1155 - val_loss: 1.8000 - val_mse: 1.8000 - learning_rate: 5.0000e-04\n",
      "Epoch 16/300\n",
      "\u001b[1m1/4\u001b[0m \u001b[32m━━━━━\u001b[0m\u001b[37m━━━━━━━━━━━━━━━\u001b[0m \u001b[1m0s\u001b[0m 35ms/step - loss: 2.3040 - mse: 2.3040\n",
      "Epoch 16: val_loss improved from 1.80004 to 1.79897, saving model to best_q_model.h5\n"
     ]
    },
    {
     "name": "stderr",
     "output_type": "stream",
     "text": [
      "WARNING:absl:You are saving your model as an HDF5 file via `model.save()` or `keras.saving.save_model(model)`. This file format is considered legacy. We recommend using instead the native Keras format, e.g. `model.save('my_model.keras')` or `keras.saving.save_model(model, 'my_model.keras')`. \n"
     ]
    },
    {
     "name": "stdout",
     "output_type": "stream",
     "text": [
      "\u001b[1m4/4\u001b[0m \u001b[32m━━━━━━━━━━━━━━━━━━━━\u001b[0m\u001b[37m\u001b[0m \u001b[1m0s\u001b[0m 55ms/step - loss: 1.8245 - mse: 1.8245 - val_loss: 1.7990 - val_mse: 1.7990 - learning_rate: 5.0000e-04\n",
      "Epoch 17/300\n",
      "\u001b[1m1/4\u001b[0m \u001b[32m━━━━━\u001b[0m\u001b[37m━━━━━━━━━━━━━━━\u001b[0m \u001b[1m0s\u001b[0m 32ms/step - loss: 2.2693 - mse: 2.2693\n",
      "Epoch 17: val_loss improved from 1.79897 to 1.79758, saving model to best_q_model.h5\n"
     ]
    },
    {
     "name": "stderr",
     "output_type": "stream",
     "text": [
      "WARNING:absl:You are saving your model as an HDF5 file via `model.save()` or `keras.saving.save_model(model)`. This file format is considered legacy. We recommend using instead the native Keras format, e.g. `model.save('my_model.keras')` or `keras.saving.save_model(model, 'my_model.keras')`. \n"
     ]
    },
    {
     "name": "stdout",
     "output_type": "stream",
     "text": [
      "\u001b[1m4/4\u001b[0m \u001b[32m━━━━━━━━━━━━━━━━━━━━\u001b[0m\u001b[37m\u001b[0m \u001b[1m0s\u001b[0m 41ms/step - loss: 1.8346 - mse: 1.8346 - val_loss: 1.7976 - val_mse: 1.7976 - learning_rate: 5.0000e-04\n",
      "Epoch 18/300\n",
      "\u001b[1m1/4\u001b[0m \u001b[32m━━━━━\u001b[0m\u001b[37m━━━━━━━━━━━━━━━\u001b[0m \u001b[1m0s\u001b[0m 29ms/step - loss: 2.7592 - mse: 2.7592\n",
      "Epoch 18: val_loss improved from 1.79758 to 1.79629, saving model to best_q_model.h5\n"
     ]
    },
    {
     "name": "stderr",
     "output_type": "stream",
     "text": [
      "WARNING:absl:You are saving your model as an HDF5 file via `model.save()` or `keras.saving.save_model(model)`. This file format is considered legacy. We recommend using instead the native Keras format, e.g. `model.save('my_model.keras')` or `keras.saving.save_model(model, 'my_model.keras')`. \n"
     ]
    },
    {
     "name": "stdout",
     "output_type": "stream",
     "text": [
      "\u001b[1m4/4\u001b[0m \u001b[32m━━━━━━━━━━━━━━━━━━━━\u001b[0m\u001b[37m\u001b[0m \u001b[1m0s\u001b[0m 37ms/step - loss: 1.7768 - mse: 1.7768 - val_loss: 1.7963 - val_mse: 1.7963 - learning_rate: 5.0000e-04\n",
      "Epoch 19/300\n",
      "\u001b[1m1/4\u001b[0m \u001b[32m━━━━━\u001b[0m\u001b[37m━━━━━━━━━━━━━━━\u001b[0m \u001b[1m0s\u001b[0m 26ms/step - loss: 2.6479 - mse: 2.6479\n",
      "Epoch 19: val_loss improved from 1.79629 to 1.79503, saving model to best_q_model.h5\n"
     ]
    },
    {
     "name": "stderr",
     "output_type": "stream",
     "text": [
      "WARNING:absl:You are saving your model as an HDF5 file via `model.save()` or `keras.saving.save_model(model)`. This file format is considered legacy. We recommend using instead the native Keras format, e.g. `model.save('my_model.keras')` or `keras.saving.save_model(model, 'my_model.keras')`. \n"
     ]
    },
    {
     "name": "stdout",
     "output_type": "stream",
     "text": [
      "\u001b[1m4/4\u001b[0m \u001b[32m━━━━━━━━━━━━━━━━━━━━\u001b[0m\u001b[37m\u001b[0m \u001b[1m0s\u001b[0m 38ms/step - loss: 2.0548 - mse: 2.0548 - val_loss: 1.7950 - val_mse: 1.7950 - learning_rate: 5.0000e-04\n",
      "Epoch 20/300\n",
      "\u001b[1m1/4\u001b[0m \u001b[32m━━━━━\u001b[0m\u001b[37m━━━━━━━━━━━━━━━\u001b[0m \u001b[1m0s\u001b[0m 23ms/step - loss: 1.8089 - mse: 1.8089\n",
      "Epoch 20: val_loss improved from 1.79503 to 1.79413, saving model to best_q_model.h5\n"
     ]
    },
    {
     "name": "stderr",
     "output_type": "stream",
     "text": [
      "WARNING:absl:You are saving your model as an HDF5 file via `model.save()` or `keras.saving.save_model(model)`. This file format is considered legacy. We recommend using instead the native Keras format, e.g. `model.save('my_model.keras')` or `keras.saving.save_model(model, 'my_model.keras')`. \n"
     ]
    },
    {
     "name": "stdout",
     "output_type": "stream",
     "text": [
      "\u001b[1m4/4\u001b[0m \u001b[32m━━━━━━━━━━━━━━━━━━━━\u001b[0m\u001b[37m\u001b[0m \u001b[1m0s\u001b[0m 47ms/step - loss: 1.9566 - mse: 1.9566 - val_loss: 1.7941 - val_mse: 1.7941 - learning_rate: 5.0000e-04\n",
      "Epoch 21/300\n",
      "\u001b[1m1/4\u001b[0m \u001b[32m━━━━━\u001b[0m\u001b[37m━━━━━━━━━━━━━━━\u001b[0m \u001b[1m0s\u001b[0m 42ms/step - loss: 1.8594 - mse: 1.8594\n",
      "Epoch 21: val_loss improved from 1.79413 to 1.79361, saving model to best_q_model.h5\n"
     ]
    },
    {
     "name": "stderr",
     "output_type": "stream",
     "text": [
      "WARNING:absl:You are saving your model as an HDF5 file via `model.save()` or `keras.saving.save_model(model)`. This file format is considered legacy. We recommend using instead the native Keras format, e.g. `model.save('my_model.keras')` or `keras.saving.save_model(model, 'my_model.keras')`. \n"
     ]
    },
    {
     "name": "stdout",
     "output_type": "stream",
     "text": [
      "\u001b[1m4/4\u001b[0m \u001b[32m━━━━━━━━━━━━━━━━━━━━\u001b[0m\u001b[37m\u001b[0m \u001b[1m0s\u001b[0m 39ms/step - loss: 2.0690 - mse: 2.0690 - val_loss: 1.7936 - val_mse: 1.7936 - learning_rate: 5.0000e-04\n",
      "Epoch 22/300\n",
      "\u001b[1m1/4\u001b[0m \u001b[32m━━━━━\u001b[0m\u001b[37m━━━━━━━━━━━━━━━\u001b[0m \u001b[1m0s\u001b[0m 36ms/step - loss: 0.9647 - mse: 0.9647\n",
      "Epoch 22: val_loss improved from 1.79361 to 1.79328, saving model to best_q_model.h5\n"
     ]
    },
    {
     "name": "stderr",
     "output_type": "stream",
     "text": [
      "WARNING:absl:You are saving your model as an HDF5 file via `model.save()` or `keras.saving.save_model(model)`. This file format is considered legacy. We recommend using instead the native Keras format, e.g. `model.save('my_model.keras')` or `keras.saving.save_model(model, 'my_model.keras')`. \n"
     ]
    },
    {
     "name": "stdout",
     "output_type": "stream",
     "text": [
      "\u001b[1m4/4\u001b[0m \u001b[32m━━━━━━━━━━━━━━━━━━━━\u001b[0m\u001b[37m\u001b[0m \u001b[1m0s\u001b[0m 38ms/step - loss: 1.9467 - mse: 1.9467 - val_loss: 1.7933 - val_mse: 1.7933 - learning_rate: 5.0000e-04\n",
      "Epoch 23/300\n",
      "\u001b[1m1/4\u001b[0m \u001b[32m━━━━━\u001b[0m\u001b[37m━━━━━━━━━━━━━━━\u001b[0m \u001b[1m0s\u001b[0m 22ms/step - loss: 3.3729 - mse: 3.3729\n",
      "Epoch 23: val_loss improved from 1.79328 to 1.79275, saving model to best_q_model.h5\n"
     ]
    },
    {
     "name": "stderr",
     "output_type": "stream",
     "text": [
      "WARNING:absl:You are saving your model as an HDF5 file via `model.save()` or `keras.saving.save_model(model)`. This file format is considered legacy. We recommend using instead the native Keras format, e.g. `model.save('my_model.keras')` or `keras.saving.save_model(model, 'my_model.keras')`. \n"
     ]
    },
    {
     "name": "stdout",
     "output_type": "stream",
     "text": [
      "\u001b[1m4/4\u001b[0m \u001b[32m━━━━━━━━━━━━━━━━━━━━\u001b[0m\u001b[37m\u001b[0m \u001b[1m0s\u001b[0m 38ms/step - loss: 1.9263 - mse: 1.9263 - val_loss: 1.7927 - val_mse: 1.7927 - learning_rate: 5.0000e-04\n",
      "Epoch 24/300\n",
      "\u001b[1m1/4\u001b[0m \u001b[32m━━━━━\u001b[0m\u001b[37m━━━━━━━━━━━━━━━\u001b[0m \u001b[1m0s\u001b[0m 41ms/step - loss: 2.5534 - mse: 2.5534\n",
      "Epoch 24: val_loss improved from 1.79275 to 1.79192, saving model to best_q_model.h5\n"
     ]
    },
    {
     "name": "stderr",
     "output_type": "stream",
     "text": [
      "WARNING:absl:You are saving your model as an HDF5 file via `model.save()` or `keras.saving.save_model(model)`. This file format is considered legacy. We recommend using instead the native Keras format, e.g. `model.save('my_model.keras')` or `keras.saving.save_model(model, 'my_model.keras')`. \n"
     ]
    },
    {
     "name": "stdout",
     "output_type": "stream",
     "text": [
      "\u001b[1m4/4\u001b[0m \u001b[32m━━━━━━━━━━━━━━━━━━━━\u001b[0m\u001b[37m\u001b[0m \u001b[1m0s\u001b[0m 39ms/step - loss: 1.8651 - mse: 1.8651 - val_loss: 1.7919 - val_mse: 1.7919 - learning_rate: 5.0000e-04\n",
      "Epoch 25/300\n",
      "\u001b[1m1/4\u001b[0m \u001b[32m━━━━━\u001b[0m\u001b[37m━━━━━━━━━━━━━━━\u001b[0m \u001b[1m0s\u001b[0m 26ms/step - loss: 1.1114 - mse: 1.1114\n",
      "Epoch 25: val_loss improved from 1.79192 to 1.79020, saving model to best_q_model.h5\n"
     ]
    },
    {
     "name": "stderr",
     "output_type": "stream",
     "text": [
      "WARNING:absl:You are saving your model as an HDF5 file via `model.save()` or `keras.saving.save_model(model)`. This file format is considered legacy. We recommend using instead the native Keras format, e.g. `model.save('my_model.keras')` or `keras.saving.save_model(model, 'my_model.keras')`. \n"
     ]
    },
    {
     "name": "stdout",
     "output_type": "stream",
     "text": [
      "\u001b[1m4/4\u001b[0m \u001b[32m━━━━━━━━━━━━━━━━━━━━\u001b[0m\u001b[37m\u001b[0m \u001b[1m0s\u001b[0m 51ms/step - loss: 1.7757 - mse: 1.7757 - val_loss: 1.7902 - val_mse: 1.7902 - learning_rate: 5.0000e-04\n",
      "Epoch 26/300\n",
      "\u001b[1m1/4\u001b[0m \u001b[32m━━━━━\u001b[0m\u001b[37m━━━━━━━━━━━━━━━\u001b[0m \u001b[1m0s\u001b[0m 25ms/step - loss: 1.8448 - mse: 1.8448\n",
      "Epoch 26: val_loss improved from 1.79020 to 1.78913, saving model to best_q_model.h5\n"
     ]
    },
    {
     "name": "stderr",
     "output_type": "stream",
     "text": [
      "WARNING:absl:You are saving your model as an HDF5 file via `model.save()` or `keras.saving.save_model(model)`. This file format is considered legacy. We recommend using instead the native Keras format, e.g. `model.save('my_model.keras')` or `keras.saving.save_model(model, 'my_model.keras')`. \n"
     ]
    },
    {
     "name": "stdout",
     "output_type": "stream",
     "text": [
      "\u001b[1m4/4\u001b[0m \u001b[32m━━━━━━━━━━━━━━━━━━━━\u001b[0m\u001b[37m\u001b[0m \u001b[1m0s\u001b[0m 43ms/step - loss: 1.5804 - mse: 1.5804 - val_loss: 1.7891 - val_mse: 1.7891 - learning_rate: 5.0000e-04\n",
      "Epoch 27/300\n",
      "\u001b[1m1/4\u001b[0m \u001b[32m━━━━━\u001b[0m\u001b[37m━━━━━━━━━━━━━━━\u001b[0m \u001b[1m0s\u001b[0m 29ms/step - loss: 1.7774 - mse: 1.7774\n",
      "Epoch 27: val_loss improved from 1.78913 to 1.78727, saving model to best_q_model.h5\n"
     ]
    },
    {
     "name": "stderr",
     "output_type": "stream",
     "text": [
      "WARNING:absl:You are saving your model as an HDF5 file via `model.save()` or `keras.saving.save_model(model)`. This file format is considered legacy. We recommend using instead the native Keras format, e.g. `model.save('my_model.keras')` or `keras.saving.save_model(model, 'my_model.keras')`. \n"
     ]
    },
    {
     "name": "stdout",
     "output_type": "stream",
     "text": [
      "\u001b[1m4/4\u001b[0m \u001b[32m━━━━━━━━━━━━━━━━━━━━\u001b[0m\u001b[37m\u001b[0m \u001b[1m0s\u001b[0m 38ms/step - loss: 1.6519 - mse: 1.6519 - val_loss: 1.7873 - val_mse: 1.7873 - learning_rate: 5.0000e-04\n",
      "Epoch 28/300\n",
      "\u001b[1m1/4\u001b[0m \u001b[32m━━━━━\u001b[0m\u001b[37m━━━━━━━━━━━━━━━\u001b[0m \u001b[1m0s\u001b[0m 29ms/step - loss: 1.7793 - mse: 1.7793\n",
      "Epoch 28: val_loss improved from 1.78727 to 1.78613, saving model to best_q_model.h5\n"
     ]
    },
    {
     "name": "stderr",
     "output_type": "stream",
     "text": [
      "WARNING:absl:You are saving your model as an HDF5 file via `model.save()` or `keras.saving.save_model(model)`. This file format is considered legacy. We recommend using instead the native Keras format, e.g. `model.save('my_model.keras')` or `keras.saving.save_model(model, 'my_model.keras')`. \n"
     ]
    },
    {
     "name": "stdout",
     "output_type": "stream",
     "text": [
      "\u001b[1m4/4\u001b[0m \u001b[32m━━━━━━━━━━━━━━━━━━━━\u001b[0m\u001b[37m\u001b[0m \u001b[1m0s\u001b[0m 38ms/step - loss: 2.1548 - mse: 2.1548 - val_loss: 1.7861 - val_mse: 1.7861 - learning_rate: 5.0000e-04\n",
      "Epoch 29/300\n",
      "\u001b[1m1/4\u001b[0m \u001b[32m━━━━━\u001b[0m\u001b[37m━━━━━━━━━━━━━━━\u001b[0m \u001b[1m0s\u001b[0m 49ms/step - loss: 2.6646 - mse: 2.6646\n",
      "Epoch 29: val_loss did not improve from 1.78613\n",
      "\u001b[1m4/4\u001b[0m \u001b[32m━━━━━━━━━━━━━━━━━━━━\u001b[0m\u001b[37m\u001b[0m \u001b[1m0s\u001b[0m 23ms/step - loss: 2.2739 - mse: 2.2739 - val_loss: 1.7864 - val_mse: 1.7864 - learning_rate: 5.0000e-04\n",
      "Epoch 30/300\n",
      "\u001b[1m1/4\u001b[0m \u001b[32m━━━━━\u001b[0m\u001b[37m━━━━━━━━━━━━━━━\u001b[0m \u001b[1m0s\u001b[0m 17ms/step - loss: 1.1451 - mse: 1.1451\n",
      "Epoch 30: val_loss improved from 1.78613 to 1.78550, saving model to best_q_model.h5\n"
     ]
    },
    {
     "name": "stderr",
     "output_type": "stream",
     "text": [
      "WARNING:absl:You are saving your model as an HDF5 file via `model.save()` or `keras.saving.save_model(model)`. This file format is considered legacy. We recommend using instead the native Keras format, e.g. `model.save('my_model.keras')` or `keras.saving.save_model(model, 'my_model.keras')`. \n"
     ]
    },
    {
     "name": "stdout",
     "output_type": "stream",
     "text": [
      "\u001b[1m4/4\u001b[0m \u001b[32m━━━━━━━━━━━━━━━━━━━━\u001b[0m\u001b[37m\u001b[0m \u001b[1m0s\u001b[0m 37ms/step - loss: 1.6528 - mse: 1.6528 - val_loss: 1.7855 - val_mse: 1.7855 - learning_rate: 5.0000e-04\n",
      "Epoch 31/300\n",
      "\u001b[1m1/4\u001b[0m \u001b[32m━━━━━\u001b[0m\u001b[37m━━━━━━━━━━━━━━━\u001b[0m \u001b[1m0s\u001b[0m 20ms/step - loss: 0.8929 - mse: 0.8929\n",
      "Epoch 31: val_loss did not improve from 1.78550\n",
      "\u001b[1m4/4\u001b[0m \u001b[32m━━━━━━━━━━━━━━━━━━━━\u001b[0m\u001b[37m\u001b[0m \u001b[1m0s\u001b[0m 22ms/step - loss: 2.0038 - mse: 2.0038 - val_loss: 1.7860 - val_mse: 1.7860 - learning_rate: 5.0000e-04\n",
      "Epoch 32/300\n",
      "\u001b[1m1/4\u001b[0m \u001b[32m━━━━━\u001b[0m\u001b[37m━━━━━━━━━━━━━━━\u001b[0m \u001b[1m0s\u001b[0m 24ms/step - loss: 2.2830 - mse: 2.2830\n",
      "Epoch 32: val_loss did not improve from 1.78550\n",
      "\u001b[1m4/4\u001b[0m \u001b[32m━━━━━━━━━━━━━━━━━━━━\u001b[0m\u001b[37m\u001b[0m \u001b[1m0s\u001b[0m 23ms/step - loss: 1.9293 - mse: 1.9293 - val_loss: 1.7864 - val_mse: 1.7864 - learning_rate: 5.0000e-04\n",
      "Epoch 33/300\n",
      "\u001b[1m1/4\u001b[0m \u001b[32m━━━━━\u001b[0m\u001b[37m━━━━━━━━━━━━━━━\u001b[0m \u001b[1m0s\u001b[0m 26ms/step - loss: 3.4334 - mse: 3.4334\n",
      "Epoch 33: val_loss did not improve from 1.78550\n",
      "\u001b[1m4/4\u001b[0m \u001b[32m━━━━━━━━━━━━━━━━━━━━\u001b[0m\u001b[37m\u001b[0m \u001b[1m0s\u001b[0m 21ms/step - loss: 2.1456 - mse: 2.1456 - val_loss: 1.7874 - val_mse: 1.7874 - learning_rate: 5.0000e-04\n",
      "Epoch 34/300\n",
      "\u001b[1m1/4\u001b[0m \u001b[32m━━━━━\u001b[0m\u001b[37m━━━━━━━━━━━━━━━\u001b[0m \u001b[1m0s\u001b[0m 25ms/step - loss: 1.7013 - mse: 1.7013\n",
      "Epoch 34: val_loss did not improve from 1.78550\n",
      "\u001b[1m4/4\u001b[0m \u001b[32m━━━━━━━━━━━━━━━━━━━━\u001b[0m\u001b[37m\u001b[0m \u001b[1m0s\u001b[0m 20ms/step - loss: 1.8275 - mse: 1.8275 - val_loss: 1.7880 - val_mse: 1.7880 - learning_rate: 5.0000e-04\n",
      "Epoch 35/300\n",
      "\u001b[1m1/4\u001b[0m \u001b[32m━━━━━\u001b[0m\u001b[37m━━━━━━━━━━━━━━━\u001b[0m \u001b[1m0s\u001b[0m 26ms/step - loss: 3.7856 - mse: 3.7856\n",
      "Epoch 35: val_loss did not improve from 1.78550\n",
      "\u001b[1m4/4\u001b[0m \u001b[32m━━━━━━━━━━━━━━━━━━━━\u001b[0m\u001b[37m\u001b[0m \u001b[1m0s\u001b[0m 18ms/step - loss: 1.6772 - mse: 1.6772 - val_loss: 1.7888 - val_mse: 1.7888 - learning_rate: 5.0000e-04\n",
      "Epoch 36/300\n",
      "\u001b[1m1/4\u001b[0m \u001b[32m━━━━━\u001b[0m\u001b[37m━━━━━━━━━━━━━━━\u001b[0m \u001b[1m0s\u001b[0m 26ms/step - loss: 1.7488 - mse: 1.7488\n",
      "Epoch 36: val_loss did not improve from 1.78550\n",
      "\u001b[1m4/4\u001b[0m \u001b[32m━━━━━━━━━━━━━━━━━━━━\u001b[0m\u001b[37m\u001b[0m \u001b[1m0s\u001b[0m 19ms/step - loss: 1.6852 - mse: 1.6852 - val_loss: 1.7889 - val_mse: 1.7889 - learning_rate: 5.0000e-04\n",
      "Epoch 37/300\n",
      "\u001b[1m1/4\u001b[0m \u001b[32m━━━━━\u001b[0m\u001b[37m━━━━━━━━━━━━━━━\u001b[0m \u001b[1m0s\u001b[0m 22ms/step - loss: 1.9616 - mse: 1.9616\n",
      "Epoch 37: val_loss did not improve from 1.78550\n",
      "\u001b[1m4/4\u001b[0m \u001b[32m━━━━━━━━━━━━━━━━━━━━\u001b[0m\u001b[37m\u001b[0m \u001b[1m0s\u001b[0m 22ms/step - loss: 1.5939 - mse: 1.5939 - val_loss: 1.7881 - val_mse: 1.7881 - learning_rate: 5.0000e-04\n",
      "Epoch 38/300\n",
      "\u001b[1m1/4\u001b[0m \u001b[32m━━━━━\u001b[0m\u001b[37m━━━━━━━━━━━━━━━\u001b[0m \u001b[1m0s\u001b[0m 28ms/step - loss: 1.8728 - mse: 1.8728\n",
      "Epoch 38: val_loss did not improve from 1.78550\n",
      "\u001b[1m4/4\u001b[0m \u001b[32m━━━━━━━━━━━━━━━━━━━━\u001b[0m\u001b[37m\u001b[0m \u001b[1m0s\u001b[0m 19ms/step - loss: 2.1498 - mse: 2.1498 - val_loss: 1.7873 - val_mse: 1.7873 - learning_rate: 5.0000e-04\n",
      "Epoch 39/300\n",
      "\u001b[1m1/4\u001b[0m \u001b[32m━━━━━\u001b[0m\u001b[37m━━━━━━━━━━━━━━━\u001b[0m \u001b[1m0s\u001b[0m 26ms/step - loss: 0.7494 - mse: 0.7494\n",
      "Epoch 39: val_loss did not improve from 1.78550\n",
      "\u001b[1m4/4\u001b[0m \u001b[32m━━━━━━━━━━━━━━━━━━━━\u001b[0m\u001b[37m\u001b[0m \u001b[1m0s\u001b[0m 21ms/step - loss: 1.8918 - mse: 1.8918 - val_loss: 1.7866 - val_mse: 1.7866 - learning_rate: 5.0000e-04\n",
      "Epoch 40/300\n",
      "\u001b[1m1/4\u001b[0m \u001b[32m━━━━━\u001b[0m\u001b[37m━━━━━━━━━━━━━━━\u001b[0m \u001b[1m0s\u001b[0m 25ms/step - loss: 1.8391 - mse: 1.8391\n",
      "Epoch 40: val_loss did not improve from 1.78550\n",
      "\u001b[1m4/4\u001b[0m \u001b[32m━━━━━━━━━━━━━━━━━━━━\u001b[0m\u001b[37m\u001b[0m \u001b[1m0s\u001b[0m 20ms/step - loss: 1.3923 - mse: 1.3923 - val_loss: 1.7863 - val_mse: 1.7863 - learning_rate: 5.0000e-04\n",
      "Epoch 41/300\n",
      "\u001b[1m1/4\u001b[0m \u001b[32m━━━━━\u001b[0m\u001b[37m━━━━━━━━━━━━━━━\u001b[0m \u001b[1m0s\u001b[0m 28ms/step - loss: 0.9064 - mse: 0.9064\n",
      "Epoch 41: val_loss did not improve from 1.78550\n",
      "\u001b[1m4/4\u001b[0m \u001b[32m━━━━━━━━━━━━━━━━━━━━\u001b[0m\u001b[37m\u001b[0m \u001b[1m0s\u001b[0m 23ms/step - loss: 1.8125 - mse: 1.8125 - val_loss: 1.7867 - val_mse: 1.7867 - learning_rate: 5.0000e-04\n",
      "Epoch 42/300\n",
      "\u001b[1m1/4\u001b[0m \u001b[32m━━━━━\u001b[0m\u001b[37m━━━━━━━━━━━━━━━\u001b[0m \u001b[1m0s\u001b[0m 25ms/step - loss: 0.8690 - mse: 0.8690\n",
      "Epoch 42: ReduceLROnPlateau reducing learning rate to 0.0002500000118743628.\n",
      "\n",
      "Epoch 42: val_loss did not improve from 1.78550\n",
      "\u001b[1m4/4\u001b[0m \u001b[32m━━━━━━━━━━━━━━━━━━━━\u001b[0m\u001b[37m\u001b[0m \u001b[1m0s\u001b[0m 22ms/step - loss: 1.8542 - mse: 1.8542 - val_loss: 1.7869 - val_mse: 1.7869 - learning_rate: 5.0000e-04\n",
      "Epoch 43/300\n",
      "\u001b[1m1/4\u001b[0m \u001b[32m━━━━━\u001b[0m\u001b[37m━━━━━━━━━━━━━━━\u001b[0m \u001b[1m0s\u001b[0m 23ms/step - loss: 1.3947 - mse: 1.3947\n",
      "Epoch 43: val_loss did not improve from 1.78550\n",
      "\u001b[1m4/4\u001b[0m \u001b[32m━━━━━━━━━━━━━━━━━━━━\u001b[0m\u001b[37m\u001b[0m \u001b[1m0s\u001b[0m 23ms/step - loss: 1.4789 - mse: 1.4789 - val_loss: 1.7863 - val_mse: 1.7863 - learning_rate: 2.5000e-04\n",
      "Epoch 44/300\n",
      "\u001b[1m1/4\u001b[0m \u001b[32m━━━━━\u001b[0m\u001b[37m━━━━━━━━━━━━━━━\u001b[0m \u001b[1m0s\u001b[0m 46ms/step - loss: 0.5868 - mse: 0.5868\n",
      "Epoch 44: val_loss improved from 1.78550 to 1.78520, saving model to best_q_model.h5\n"
     ]
    },
    {
     "name": "stderr",
     "output_type": "stream",
     "text": [
      "WARNING:absl:You are saving your model as an HDF5 file via `model.save()` or `keras.saving.save_model(model)`. This file format is considered legacy. We recommend using instead the native Keras format, e.g. `model.save('my_model.keras')` or `keras.saving.save_model(model, 'my_model.keras')`. \n"
     ]
    },
    {
     "name": "stdout",
     "output_type": "stream",
     "text": [
      "\u001b[1m4/4\u001b[0m \u001b[32m━━━━━━━━━━━━━━━━━━━━\u001b[0m\u001b[37m\u001b[0m \u001b[1m0s\u001b[0m 46ms/step - loss: 1.7495 - mse: 1.7495 - val_loss: 1.7852 - val_mse: 1.7852 - learning_rate: 2.5000e-04\n",
      "Epoch 45/300\n",
      "\u001b[1m1/4\u001b[0m \u001b[32m━━━━━\u001b[0m\u001b[37m━━━━━━━━━━━━━━━\u001b[0m \u001b[1m0s\u001b[0m 49ms/step - loss: 1.4647 - mse: 1.4647\n",
      "Epoch 45: val_loss did not improve from 1.78520\n",
      "\u001b[1m4/4\u001b[0m \u001b[32m━━━━━━━━━━━━━━━━━━━━\u001b[0m\u001b[37m\u001b[0m \u001b[1m0s\u001b[0m 26ms/step - loss: 1.5589 - mse: 1.5589 - val_loss: 1.7856 - val_mse: 1.7856 - learning_rate: 2.5000e-04\n",
      "Epoch 46/300\n",
      "\u001b[1m1/4\u001b[0m \u001b[32m━━━━━\u001b[0m\u001b[37m━━━━━━━━━━━━━━━\u001b[0m \u001b[1m0s\u001b[0m 26ms/step - loss: 2.4790 - mse: 2.4790\n",
      "Epoch 46: val_loss improved from 1.78520 to 1.78519, saving model to best_q_model.h5\n"
     ]
    },
    {
     "name": "stderr",
     "output_type": "stream",
     "text": [
      "WARNING:absl:You are saving your model as an HDF5 file via `model.save()` or `keras.saving.save_model(model)`. This file format is considered legacy. We recommend using instead the native Keras format, e.g. `model.save('my_model.keras')` or `keras.saving.save_model(model, 'my_model.keras')`. \n"
     ]
    },
    {
     "name": "stdout",
     "output_type": "stream",
     "text": [
      "\u001b[1m4/4\u001b[0m \u001b[32m━━━━━━━━━━━━━━━━━━━━\u001b[0m\u001b[37m\u001b[0m \u001b[1m0s\u001b[0m 45ms/step - loss: 1.5854 - mse: 1.5854 - val_loss: 1.7852 - val_mse: 1.7852 - learning_rate: 2.5000e-04\n",
      "Epoch 47/300\n",
      "\u001b[1m1/4\u001b[0m \u001b[32m━━━━━\u001b[0m\u001b[37m━━━━━━━━━━━━━━━\u001b[0m \u001b[1m0s\u001b[0m 26ms/step - loss: 1.3099 - mse: 1.3099\n",
      "Epoch 47: val_loss improved from 1.78519 to 1.78461, saving model to best_q_model.h5\n"
     ]
    },
    {
     "name": "stderr",
     "output_type": "stream",
     "text": [
      "WARNING:absl:You are saving your model as an HDF5 file via `model.save()` or `keras.saving.save_model(model)`. This file format is considered legacy. We recommend using instead the native Keras format, e.g. `model.save('my_model.keras')` or `keras.saving.save_model(model, 'my_model.keras')`. \n"
     ]
    },
    {
     "name": "stdout",
     "output_type": "stream",
     "text": [
      "\u001b[1m4/4\u001b[0m \u001b[32m━━━━━━━━━━━━━━━━━━━━\u001b[0m\u001b[37m\u001b[0m \u001b[1m0s\u001b[0m 47ms/step - loss: 1.6785 - mse: 1.6785 - val_loss: 1.7846 - val_mse: 1.7846 - learning_rate: 2.5000e-04\n",
      "Epoch 48/300\n",
      "\u001b[1m1/4\u001b[0m \u001b[32m━━━━━\u001b[0m\u001b[37m━━━━━━━━━━━━━━━\u001b[0m \u001b[1m0s\u001b[0m 23ms/step - loss: 1.5840 - mse: 1.5840\n",
      "Epoch 48: val_loss improved from 1.78461 to 1.78407, saving model to best_q_model.h5\n"
     ]
    },
    {
     "name": "stderr",
     "output_type": "stream",
     "text": [
      "WARNING:absl:You are saving your model as an HDF5 file via `model.save()` or `keras.saving.save_model(model)`. This file format is considered legacy. We recommend using instead the native Keras format, e.g. `model.save('my_model.keras')` or `keras.saving.save_model(model, 'my_model.keras')`. \n"
     ]
    },
    {
     "name": "stdout",
     "output_type": "stream",
     "text": [
      "\u001b[1m4/4\u001b[0m \u001b[32m━━━━━━━━━━━━━━━━━━━━\u001b[0m\u001b[37m\u001b[0m \u001b[1m0s\u001b[0m 42ms/step - loss: 1.8137 - mse: 1.8137 - val_loss: 1.7841 - val_mse: 1.7841 - learning_rate: 2.5000e-04\n",
      "Epoch 49/300\n",
      "\u001b[1m1/4\u001b[0m \u001b[32m━━━━━\u001b[0m\u001b[37m━━━━━━━━━━━━━━━\u001b[0m \u001b[1m0s\u001b[0m 43ms/step - loss: 0.6120 - mse: 0.6120\n",
      "Epoch 49: val_loss improved from 1.78407 to 1.78378, saving model to best_q_model.h5\n"
     ]
    },
    {
     "name": "stderr",
     "output_type": "stream",
     "text": [
      "WARNING:absl:You are saving your model as an HDF5 file via `model.save()` or `keras.saving.save_model(model)`. This file format is considered legacy. We recommend using instead the native Keras format, e.g. `model.save('my_model.keras')` or `keras.saving.save_model(model, 'my_model.keras')`. \n"
     ]
    },
    {
     "name": "stdout",
     "output_type": "stream",
     "text": [
      "\u001b[1m4/4\u001b[0m \u001b[32m━━━━━━━━━━━━━━━━━━━━\u001b[0m\u001b[37m\u001b[0m \u001b[1m0s\u001b[0m 39ms/step - loss: 1.7071 - mse: 1.7071 - val_loss: 1.7838 - val_mse: 1.7838 - learning_rate: 2.5000e-04\n",
      "Epoch 50/300\n",
      "\u001b[1m1/4\u001b[0m \u001b[32m━━━━━\u001b[0m\u001b[37m━━━━━━━━━━━━━━━\u001b[0m \u001b[1m0s\u001b[0m 21ms/step - loss: 2.8312 - mse: 2.8312\n",
      "Epoch 50: val_loss did not improve from 1.78378\n",
      "\u001b[1m4/4\u001b[0m \u001b[32m━━━━━━━━━━━━━━━━━━━━\u001b[0m\u001b[37m\u001b[0m \u001b[1m0s\u001b[0m 21ms/step - loss: 1.9327 - mse: 1.9327 - val_loss: 1.7841 - val_mse: 1.7841 - learning_rate: 2.5000e-04\n",
      "Epoch 51/300\n",
      "\u001b[1m1/4\u001b[0m \u001b[32m━━━━━\u001b[0m\u001b[37m━━━━━━━━━━━━━━━\u001b[0m \u001b[1m0s\u001b[0m 22ms/step - loss: 2.7180 - mse: 2.7180\n",
      "Epoch 51: val_loss improved from 1.78378 to 1.78277, saving model to best_q_model.h5\n"
     ]
    },
    {
     "name": "stderr",
     "output_type": "stream",
     "text": [
      "WARNING:absl:You are saving your model as an HDF5 file via `model.save()` or `keras.saving.save_model(model)`. This file format is considered legacy. We recommend using instead the native Keras format, e.g. `model.save('my_model.keras')` or `keras.saving.save_model(model, 'my_model.keras')`. \n"
     ]
    },
    {
     "name": "stdout",
     "output_type": "stream",
     "text": [
      "\u001b[1m4/4\u001b[0m \u001b[32m━━━━━━━━━━━━━━━━━━━━\u001b[0m\u001b[37m\u001b[0m \u001b[1m0s\u001b[0m 39ms/step - loss: 1.7323 - mse: 1.7323 - val_loss: 1.7828 - val_mse: 1.7828 - learning_rate: 2.5000e-04\n",
      "Epoch 52/300\n",
      "\u001b[1m1/4\u001b[0m \u001b[32m━━━━━\u001b[0m\u001b[37m━━━━━━━━━━━━━━━\u001b[0m \u001b[1m0s\u001b[0m 18ms/step - loss: 1.6930 - mse: 1.6930\n",
      "Epoch 52: val_loss improved from 1.78277 to 1.78167, saving model to best_q_model.h5\n"
     ]
    },
    {
     "name": "stderr",
     "output_type": "stream",
     "text": [
      "WARNING:absl:You are saving your model as an HDF5 file via `model.save()` or `keras.saving.save_model(model)`. This file format is considered legacy. We recommend using instead the native Keras format, e.g. `model.save('my_model.keras')` or `keras.saving.save_model(model, 'my_model.keras')`. \n"
     ]
    },
    {
     "name": "stdout",
     "output_type": "stream",
     "text": [
      "\u001b[1m4/4\u001b[0m \u001b[32m━━━━━━━━━━━━━━━━━━━━\u001b[0m\u001b[37m\u001b[0m \u001b[1m0s\u001b[0m 40ms/step - loss: 1.7381 - mse: 1.7381 - val_loss: 1.7817 - val_mse: 1.7817 - learning_rate: 2.5000e-04\n",
      "Epoch 53/300\n",
      "\u001b[1m1/4\u001b[0m \u001b[32m━━━━━\u001b[0m\u001b[37m━━━━━━━━━━━━━━━\u001b[0m \u001b[1m0s\u001b[0m 23ms/step - loss: 1.6994 - mse: 1.6994\n",
      "Epoch 53: val_loss improved from 1.78167 to 1.78030, saving model to best_q_model.h5\n"
     ]
    },
    {
     "name": "stderr",
     "output_type": "stream",
     "text": [
      "WARNING:absl:You are saving your model as an HDF5 file via `model.save()` or `keras.saving.save_model(model)`. This file format is considered legacy. We recommend using instead the native Keras format, e.g. `model.save('my_model.keras')` or `keras.saving.save_model(model, 'my_model.keras')`. \n"
     ]
    },
    {
     "name": "stdout",
     "output_type": "stream",
     "text": [
      "\u001b[1m4/4\u001b[0m \u001b[32m━━━━━━━━━━━━━━━━━━━━\u001b[0m\u001b[37m\u001b[0m \u001b[1m0s\u001b[0m 43ms/step - loss: 1.3315 - mse: 1.3315 - val_loss: 1.7803 - val_mse: 1.7803 - learning_rate: 2.5000e-04\n",
      "Epoch 54/300\n",
      "\u001b[1m1/4\u001b[0m \u001b[32m━━━━━\u001b[0m\u001b[37m━━━━━━━━━━━━━━━\u001b[0m \u001b[1m0s\u001b[0m 39ms/step - loss: 2.6297 - mse: 2.6297\n",
      "Epoch 54: val_loss improved from 1.78030 to 1.77870, saving model to best_q_model.h5\n"
     ]
    },
    {
     "name": "stderr",
     "output_type": "stream",
     "text": [
      "WARNING:absl:You are saving your model as an HDF5 file via `model.save()` or `keras.saving.save_model(model)`. This file format is considered legacy. We recommend using instead the native Keras format, e.g. `model.save('my_model.keras')` or `keras.saving.save_model(model, 'my_model.keras')`. \n"
     ]
    },
    {
     "name": "stdout",
     "output_type": "stream",
     "text": [
      "\u001b[1m4/4\u001b[0m \u001b[32m━━━━━━━━━━━━━━━━━━━━\u001b[0m\u001b[37m\u001b[0m \u001b[1m0s\u001b[0m 36ms/step - loss: 1.8709 - mse: 1.8709 - val_loss: 1.7787 - val_mse: 1.7787 - learning_rate: 2.5000e-04\n",
      "Epoch 55/300\n",
      "\u001b[1m1/4\u001b[0m \u001b[32m━━━━━\u001b[0m\u001b[37m━━━━━━━━━━━━━━━\u001b[0m \u001b[1m0s\u001b[0m 20ms/step - loss: 0.5837 - mse: 0.5837\n",
      "Epoch 55: val_loss improved from 1.77870 to 1.77711, saving model to best_q_model.h5\n"
     ]
    },
    {
     "name": "stderr",
     "output_type": "stream",
     "text": [
      "WARNING:absl:You are saving your model as an HDF5 file via `model.save()` or `keras.saving.save_model(model)`. This file format is considered legacy. We recommend using instead the native Keras format, e.g. `model.save('my_model.keras')` or `keras.saving.save_model(model, 'my_model.keras')`. \n"
     ]
    },
    {
     "name": "stdout",
     "output_type": "stream",
     "text": [
      "\u001b[1m4/4\u001b[0m \u001b[32m━━━━━━━━━━━━━━━━━━━━\u001b[0m\u001b[37m\u001b[0m \u001b[1m0s\u001b[0m 40ms/step - loss: 2.0921 - mse: 2.0921 - val_loss: 1.7771 - val_mse: 1.7771 - learning_rate: 2.5000e-04\n",
      "Epoch 56/300\n",
      "\u001b[1m1/4\u001b[0m \u001b[32m━━━━━\u001b[0m\u001b[37m━━━━━━━━━━━━━━━\u001b[0m \u001b[1m0s\u001b[0m 24ms/step - loss: 1.8843 - mse: 1.8843\n",
      "Epoch 56: val_loss improved from 1.77711 to 1.77622, saving model to best_q_model.h5\n"
     ]
    },
    {
     "name": "stderr",
     "output_type": "stream",
     "text": [
      "WARNING:absl:You are saving your model as an HDF5 file via `model.save()` or `keras.saving.save_model(model)`. This file format is considered legacy. We recommend using instead the native Keras format, e.g. `model.save('my_model.keras')` or `keras.saving.save_model(model, 'my_model.keras')`. \n"
     ]
    },
    {
     "name": "stdout",
     "output_type": "stream",
     "text": [
      "\u001b[1m4/4\u001b[0m \u001b[32m━━━━━━━━━━━━━━━━━━━━\u001b[0m\u001b[37m\u001b[0m \u001b[1m0s\u001b[0m 41ms/step - loss: 1.5310 - mse: 1.5310 - val_loss: 1.7762 - val_mse: 1.7762 - learning_rate: 2.5000e-04\n",
      "Epoch 57/300\n",
      "\u001b[1m1/4\u001b[0m \u001b[32m━━━━━\u001b[0m\u001b[37m━━━━━━━━━━━━━━━\u001b[0m \u001b[1m0s\u001b[0m 26ms/step - loss: 0.7525 - mse: 0.7525\n",
      "Epoch 57: val_loss improved from 1.77622 to 1.77453, saving model to best_q_model.h5\n"
     ]
    },
    {
     "name": "stderr",
     "output_type": "stream",
     "text": [
      "WARNING:absl:You are saving your model as an HDF5 file via `model.save()` or `keras.saving.save_model(model)`. This file format is considered legacy. We recommend using instead the native Keras format, e.g. `model.save('my_model.keras')` or `keras.saving.save_model(model, 'my_model.keras')`. \n"
     ]
    },
    {
     "name": "stdout",
     "output_type": "stream",
     "text": [
      "\u001b[1m4/4\u001b[0m \u001b[32m━━━━━━━━━━━━━━━━━━━━\u001b[0m\u001b[37m\u001b[0m \u001b[1m0s\u001b[0m 39ms/step - loss: 1.9988 - mse: 1.9988 - val_loss: 1.7745 - val_mse: 1.7745 - learning_rate: 2.5000e-04\n",
      "Epoch 58/300\n",
      "\u001b[1m1/4\u001b[0m \u001b[32m━━━━━\u001b[0m\u001b[37m━━━━━━━━━━━━━━━\u001b[0m \u001b[1m0s\u001b[0m 29ms/step - loss: 0.6876 - mse: 0.6876\n",
      "Epoch 58: val_loss did not improve from 1.77453\n",
      "\u001b[1m4/4\u001b[0m \u001b[32m━━━━━━━━━━━━━━━━━━━━\u001b[0m\u001b[37m\u001b[0m \u001b[1m0s\u001b[0m 20ms/step - loss: 1.4947 - mse: 1.4947 - val_loss: 1.7762 - val_mse: 1.7762 - learning_rate: 2.5000e-04\n",
      "Epoch 59/300\n",
      "\u001b[1m1/4\u001b[0m \u001b[32m━━━━━\u001b[0m\u001b[37m━━━━━━━━━━━━━━━\u001b[0m \u001b[1m0s\u001b[0m 24ms/step - loss: 1.6002 - mse: 1.6002\n",
      "Epoch 59: val_loss did not improve from 1.77453\n",
      "\u001b[1m4/4\u001b[0m \u001b[32m━━━━━━━━━━━━━━━━━━━━\u001b[0m\u001b[37m\u001b[0m \u001b[1m0s\u001b[0m 19ms/step - loss: 1.9814 - mse: 1.9814 - val_loss: 1.7768 - val_mse: 1.7768 - learning_rate: 2.5000e-04\n",
      "Epoch 60/300\n",
      "\u001b[1m1/4\u001b[0m \u001b[32m━━━━━\u001b[0m\u001b[37m━━━━━━━━━━━━━━━\u001b[0m \u001b[1m0s\u001b[0m 24ms/step - loss: 1.8718 - mse: 1.8718\n",
      "Epoch 60: val_loss did not improve from 1.77453\n",
      "\u001b[1m4/4\u001b[0m \u001b[32m━━━━━━━━━━━━━━━━━━━━\u001b[0m\u001b[37m\u001b[0m \u001b[1m0s\u001b[0m 21ms/step - loss: 2.1941 - mse: 2.1941 - val_loss: 1.7759 - val_mse: 1.7759 - learning_rate: 2.5000e-04\n",
      "Epoch 61/300\n",
      "\u001b[1m1/4\u001b[0m \u001b[32m━━━━━\u001b[0m\u001b[37m━━━━━━━━━━━━━━━\u001b[0m \u001b[1m0s\u001b[0m 24ms/step - loss: 2.0296 - mse: 2.0296\n",
      "Epoch 61: val_loss improved from 1.77453 to 1.77368, saving model to best_q_model.h5\n"
     ]
    },
    {
     "name": "stderr",
     "output_type": "stream",
     "text": [
      "WARNING:absl:You are saving your model as an HDF5 file via `model.save()` or `keras.saving.save_model(model)`. This file format is considered legacy. We recommend using instead the native Keras format, e.g. `model.save('my_model.keras')` or `keras.saving.save_model(model, 'my_model.keras')`. \n"
     ]
    },
    {
     "name": "stdout",
     "output_type": "stream",
     "text": [
      "\u001b[1m4/4\u001b[0m \u001b[32m━━━━━━━━━━━━━━━━━━━━\u001b[0m\u001b[37m\u001b[0m \u001b[1m0s\u001b[0m 40ms/step - loss: 1.6783 - mse: 1.6783 - val_loss: 1.7737 - val_mse: 1.7737 - learning_rate: 2.5000e-04\n",
      "Epoch 62/300\n",
      "\u001b[1m1/4\u001b[0m \u001b[32m━━━━━\u001b[0m\u001b[37m━━━━━━━━━━━━━━━\u001b[0m \u001b[1m0s\u001b[0m 32ms/step - loss: 1.5615 - mse: 1.5615\n",
      "Epoch 62: val_loss improved from 1.77368 to 1.77209, saving model to best_q_model.h5\n"
     ]
    },
    {
     "name": "stderr",
     "output_type": "stream",
     "text": [
      "WARNING:absl:You are saving your model as an HDF5 file via `model.save()` or `keras.saving.save_model(model)`. This file format is considered legacy. We recommend using instead the native Keras format, e.g. `model.save('my_model.keras')` or `keras.saving.save_model(model, 'my_model.keras')`. \n"
     ]
    },
    {
     "name": "stdout",
     "output_type": "stream",
     "text": [
      "\u001b[1m4/4\u001b[0m \u001b[32m━━━━━━━━━━━━━━━━━━━━\u001b[0m\u001b[37m\u001b[0m \u001b[1m0s\u001b[0m 44ms/step - loss: 1.2594 - mse: 1.2594 - val_loss: 1.7721 - val_mse: 1.7721 - learning_rate: 2.5000e-04\n",
      "Epoch 63/300\n",
      "\u001b[1m1/4\u001b[0m \u001b[32m━━━━━\u001b[0m\u001b[37m━━━━━━━━━━━━━━━\u001b[0m \u001b[1m0s\u001b[0m 47ms/step - loss: 1.2709 - mse: 1.2709\n",
      "Epoch 63: val_loss improved from 1.77209 to 1.77000, saving model to best_q_model.h5\n"
     ]
    },
    {
     "name": "stderr",
     "output_type": "stream",
     "text": [
      "WARNING:absl:You are saving your model as an HDF5 file via `model.save()` or `keras.saving.save_model(model)`. This file format is considered legacy. We recommend using instead the native Keras format, e.g. `model.save('my_model.keras')` or `keras.saving.save_model(model, 'my_model.keras')`. \n"
     ]
    },
    {
     "name": "stdout",
     "output_type": "stream",
     "text": [
      "\u001b[1m4/4\u001b[0m \u001b[32m━━━━━━━━━━━━━━━━━━━━\u001b[0m\u001b[37m\u001b[0m \u001b[1m0s\u001b[0m 44ms/step - loss: 1.8349 - mse: 1.8349 - val_loss: 1.7700 - val_mse: 1.7700 - learning_rate: 2.5000e-04\n",
      "Epoch 64/300\n",
      "\u001b[1m1/4\u001b[0m \u001b[32m━━━━━\u001b[0m\u001b[37m━━━━━━━━━━━━━━━\u001b[0m \u001b[1m0s\u001b[0m 29ms/step - loss: 1.9647 - mse: 1.9647\n",
      "Epoch 64: val_loss improved from 1.77000 to 1.76623, saving model to best_q_model.h5\n"
     ]
    },
    {
     "name": "stderr",
     "output_type": "stream",
     "text": [
      "WARNING:absl:You are saving your model as an HDF5 file via `model.save()` or `keras.saving.save_model(model)`. This file format is considered legacy. We recommend using instead the native Keras format, e.g. `model.save('my_model.keras')` or `keras.saving.save_model(model, 'my_model.keras')`. \n"
     ]
    },
    {
     "name": "stdout",
     "output_type": "stream",
     "text": [
      "\u001b[1m4/4\u001b[0m \u001b[32m━━━━━━━━━━━━━━━━━━━━\u001b[0m\u001b[37m\u001b[0m \u001b[1m0s\u001b[0m 36ms/step - loss: 1.6609 - mse: 1.6609 - val_loss: 1.7662 - val_mse: 1.7662 - learning_rate: 2.5000e-04\n",
      "Epoch 65/300\n",
      "\u001b[1m1/4\u001b[0m \u001b[32m━━━━━\u001b[0m\u001b[37m━━━━━━━━━━━━━━━\u001b[0m \u001b[1m0s\u001b[0m 23ms/step - loss: 1.8981 - mse: 1.8981\n",
      "Epoch 65: val_loss improved from 1.76623 to 1.76512, saving model to best_q_model.h5\n"
     ]
    },
    {
     "name": "stderr",
     "output_type": "stream",
     "text": [
      "WARNING:absl:You are saving your model as an HDF5 file via `model.save()` or `keras.saving.save_model(model)`. This file format is considered legacy. We recommend using instead the native Keras format, e.g. `model.save('my_model.keras')` or `keras.saving.save_model(model, 'my_model.keras')`. \n"
     ]
    },
    {
     "name": "stdout",
     "output_type": "stream",
     "text": [
      "\u001b[1m4/4\u001b[0m \u001b[32m━━━━━━━━━━━━━━━━━━━━\u001b[0m\u001b[37m\u001b[0m \u001b[1m0s\u001b[0m 37ms/step - loss: 1.5468 - mse: 1.5468 - val_loss: 1.7651 - val_mse: 1.7651 - learning_rate: 2.5000e-04\n",
      "Epoch 66/300\n",
      "\u001b[1m1/4\u001b[0m \u001b[32m━━━━━\u001b[0m\u001b[37m━━━━━━━━━━━━━━━\u001b[0m \u001b[1m0s\u001b[0m 20ms/step - loss: 0.7079 - mse: 0.7079\n",
      "Epoch 66: val_loss improved from 1.76512 to 1.76288, saving model to best_q_model.h5\n"
     ]
    },
    {
     "name": "stderr",
     "output_type": "stream",
     "text": [
      "WARNING:absl:You are saving your model as an HDF5 file via `model.save()` or `keras.saving.save_model(model)`. This file format is considered legacy. We recommend using instead the native Keras format, e.g. `model.save('my_model.keras')` or `keras.saving.save_model(model, 'my_model.keras')`. \n"
     ]
    },
    {
     "name": "stdout",
     "output_type": "stream",
     "text": [
      "\u001b[1m4/4\u001b[0m \u001b[32m━━━━━━━━━━━━━━━━━━━━\u001b[0m\u001b[37m\u001b[0m \u001b[1m0s\u001b[0m 36ms/step - loss: 1.8863 - mse: 1.8863 - val_loss: 1.7629 - val_mse: 1.7629 - learning_rate: 2.5000e-04\n",
      "Epoch 67/300\n",
      "\u001b[1m1/4\u001b[0m \u001b[32m━━━━━\u001b[0m\u001b[37m━━━━━━━━━━━━━━━\u001b[0m \u001b[1m0s\u001b[0m 30ms/step - loss: 1.4964 - mse: 1.4964\n",
      "Epoch 67: val_loss improved from 1.76288 to 1.76090, saving model to best_q_model.h5\n"
     ]
    },
    {
     "name": "stderr",
     "output_type": "stream",
     "text": [
      "WARNING:absl:You are saving your model as an HDF5 file via `model.save()` or `keras.saving.save_model(model)`. This file format is considered legacy. We recommend using instead the native Keras format, e.g. `model.save('my_model.keras')` or `keras.saving.save_model(model, 'my_model.keras')`. \n"
     ]
    },
    {
     "name": "stdout",
     "output_type": "stream",
     "text": [
      "\u001b[1m4/4\u001b[0m \u001b[32m━━━━━━━━━━━━━━━━━━━━\u001b[0m\u001b[37m\u001b[0m \u001b[1m0s\u001b[0m 40ms/step - loss: 1.6690 - mse: 1.6690 - val_loss: 1.7609 - val_mse: 1.7609 - learning_rate: 2.5000e-04\n",
      "Epoch 68/300\n",
      "\u001b[1m1/4\u001b[0m \u001b[32m━━━━━\u001b[0m\u001b[37m━━━━━━━━━━━━━━━\u001b[0m \u001b[1m0s\u001b[0m 25ms/step - loss: 2.8289 - mse: 2.8289\n",
      "Epoch 68: val_loss improved from 1.76090 to 1.76050, saving model to best_q_model.h5\n"
     ]
    },
    {
     "name": "stderr",
     "output_type": "stream",
     "text": [
      "WARNING:absl:You are saving your model as an HDF5 file via `model.save()` or `keras.saving.save_model(model)`. This file format is considered legacy. We recommend using instead the native Keras format, e.g. `model.save('my_model.keras')` or `keras.saving.save_model(model, 'my_model.keras')`. \n"
     ]
    },
    {
     "name": "stdout",
     "output_type": "stream",
     "text": [
      "\u001b[1m4/4\u001b[0m \u001b[32m━━━━━━━━━━━━━━━━━━━━\u001b[0m\u001b[37m\u001b[0m \u001b[1m0s\u001b[0m 38ms/step - loss: 1.9260 - mse: 1.9260 - val_loss: 1.7605 - val_mse: 1.7605 - learning_rate: 2.5000e-04\n",
      "Epoch 69/300\n",
      "\u001b[1m1/4\u001b[0m \u001b[32m━━━━━\u001b[0m\u001b[37m━━━━━━━━━━━━━━━\u001b[0m \u001b[1m0s\u001b[0m 24ms/step - loss: 1.0100 - mse: 1.0100\n",
      "Epoch 69: val_loss improved from 1.76050 to 1.75921, saving model to best_q_model.h5\n"
     ]
    },
    {
     "name": "stderr",
     "output_type": "stream",
     "text": [
      "WARNING:absl:You are saving your model as an HDF5 file via `model.save()` or `keras.saving.save_model(model)`. This file format is considered legacy. We recommend using instead the native Keras format, e.g. `model.save('my_model.keras')` or `keras.saving.save_model(model, 'my_model.keras')`. \n"
     ]
    },
    {
     "name": "stdout",
     "output_type": "stream",
     "text": [
      "\u001b[1m4/4\u001b[0m \u001b[32m━━━━━━━━━━━━━━━━━━━━\u001b[0m\u001b[37m\u001b[0m \u001b[1m0s\u001b[0m 39ms/step - loss: 2.1116 - mse: 2.1116 - val_loss: 1.7592 - val_mse: 1.7592 - learning_rate: 2.5000e-04\n",
      "Epoch 70/300\n",
      "\u001b[1m1/4\u001b[0m \u001b[32m━━━━━\u001b[0m\u001b[37m━━━━━━━━━━━━━━━\u001b[0m \u001b[1m0s\u001b[0m 26ms/step - loss: 1.8487 - mse: 1.8487\n",
      "Epoch 70: val_loss improved from 1.75921 to 1.75820, saving model to best_q_model.h5\n"
     ]
    },
    {
     "name": "stderr",
     "output_type": "stream",
     "text": [
      "WARNING:absl:You are saving your model as an HDF5 file via `model.save()` or `keras.saving.save_model(model)`. This file format is considered legacy. We recommend using instead the native Keras format, e.g. `model.save('my_model.keras')` or `keras.saving.save_model(model, 'my_model.keras')`. \n"
     ]
    },
    {
     "name": "stdout",
     "output_type": "stream",
     "text": [
      "\u001b[1m4/4\u001b[0m \u001b[32m━━━━━━━━━━━━━━━━━━━━\u001b[0m\u001b[37m\u001b[0m \u001b[1m0s\u001b[0m 47ms/step - loss: 1.8414 - mse: 1.8414 - val_loss: 1.7582 - val_mse: 1.7582 - learning_rate: 2.5000e-04\n",
      "Epoch 71/300\n",
      "\u001b[1m1/4\u001b[0m \u001b[32m━━━━━\u001b[0m\u001b[37m━━━━━━━━━━━━━━━\u001b[0m \u001b[1m0s\u001b[0m 24ms/step - loss: 1.9935 - mse: 1.9935\n",
      "Epoch 71: val_loss did not improve from 1.75820\n",
      "\u001b[1m4/4\u001b[0m \u001b[32m━━━━━━━━━━━━━━━━━━━━\u001b[0m\u001b[37m\u001b[0m \u001b[1m0s\u001b[0m 21ms/step - loss: 1.5314 - mse: 1.5314 - val_loss: 1.7584 - val_mse: 1.7584 - learning_rate: 2.5000e-04\n",
      "Epoch 72/300\n",
      "\u001b[1m1/4\u001b[0m \u001b[32m━━━━━\u001b[0m\u001b[37m━━━━━━━━━━━━━━━\u001b[0m \u001b[1m0s\u001b[0m 23ms/step - loss: 2.6113 - mse: 2.6113\n",
      "Epoch 72: val_loss did not improve from 1.75820\n",
      "\u001b[1m4/4\u001b[0m \u001b[32m━━━━━━━━━━━━━━━━━━━━\u001b[0m\u001b[37m\u001b[0m \u001b[1m0s\u001b[0m 21ms/step - loss: 1.7307 - mse: 1.7307 - val_loss: 1.7606 - val_mse: 1.7606 - learning_rate: 2.5000e-04\n",
      "Epoch 73/300\n",
      "\u001b[1m1/4\u001b[0m \u001b[32m━━━━━\u001b[0m\u001b[37m━━━━━━━━━━━━━━━\u001b[0m \u001b[1m0s\u001b[0m 24ms/step - loss: 1.8589 - mse: 1.8589\n",
      "Epoch 73: val_loss did not improve from 1.75820\n",
      "\u001b[1m4/4\u001b[0m \u001b[32m━━━━━━━━━━━━━━━━━━━━\u001b[0m\u001b[37m\u001b[0m \u001b[1m0s\u001b[0m 20ms/step - loss: 1.6045 - mse: 1.6045 - val_loss: 1.7610 - val_mse: 1.7610 - learning_rate: 2.5000e-04\n",
      "Epoch 74/300\n",
      "\u001b[1m1/4\u001b[0m \u001b[32m━━━━━\u001b[0m\u001b[37m━━━━━━━━━━━━━━━\u001b[0m \u001b[1m0s\u001b[0m 24ms/step - loss: 2.3186 - mse: 2.3186\n",
      "Epoch 74: val_loss did not improve from 1.75820\n",
      "\u001b[1m4/4\u001b[0m \u001b[32m━━━━━━━━━━━━━━━━━━━━\u001b[0m\u001b[37m\u001b[0m \u001b[1m0s\u001b[0m 21ms/step - loss: 1.5793 - mse: 1.5793 - val_loss: 1.7611 - val_mse: 1.7611 - learning_rate: 2.5000e-04\n",
      "Epoch 75/300\n",
      "\u001b[1m1/4\u001b[0m \u001b[32m━━━━━\u001b[0m\u001b[37m━━━━━━━━━━━━━━━\u001b[0m \u001b[1m0s\u001b[0m 23ms/step - loss: 1.3534 - mse: 1.3534\n",
      "Epoch 75: val_loss improved from 1.75820 to 1.75625, saving model to best_q_model.h5\n"
     ]
    },
    {
     "name": "stderr",
     "output_type": "stream",
     "text": [
      "WARNING:absl:You are saving your model as an HDF5 file via `model.save()` or `keras.saving.save_model(model)`. This file format is considered legacy. We recommend using instead the native Keras format, e.g. `model.save('my_model.keras')` or `keras.saving.save_model(model, 'my_model.keras')`. \n"
     ]
    },
    {
     "name": "stdout",
     "output_type": "stream",
     "text": [
      "\u001b[1m4/4\u001b[0m \u001b[32m━━━━━━━━━━━━━━━━━━━━\u001b[0m\u001b[37m\u001b[0m \u001b[1m0s\u001b[0m 34ms/step - loss: 1.4492 - mse: 1.4492 - val_loss: 1.7563 - val_mse: 1.7563 - learning_rate: 2.5000e-04\n",
      "Epoch 76/300\n",
      "\u001b[1m1/4\u001b[0m \u001b[32m━━━━━\u001b[0m\u001b[37m━━━━━━━━━━━━━━━\u001b[0m \u001b[1m0s\u001b[0m 19ms/step - loss: 1.4212 - mse: 1.4212\n",
      "Epoch 76: val_loss improved from 1.75625 to 1.75533, saving model to best_q_model.h5\n"
     ]
    },
    {
     "name": "stderr",
     "output_type": "stream",
     "text": [
      "WARNING:absl:You are saving your model as an HDF5 file via `model.save()` or `keras.saving.save_model(model)`. This file format is considered legacy. We recommend using instead the native Keras format, e.g. `model.save('my_model.keras')` or `keras.saving.save_model(model, 'my_model.keras')`. \n"
     ]
    },
    {
     "name": "stdout",
     "output_type": "stream",
     "text": [
      "\u001b[1m4/4\u001b[0m \u001b[32m━━━━━━━━━━━━━━━━━━━━\u001b[0m\u001b[37m\u001b[0m \u001b[1m0s\u001b[0m 38ms/step - loss: 1.3907 - mse: 1.3907 - val_loss: 1.7553 - val_mse: 1.7553 - learning_rate: 2.5000e-04\n",
      "Epoch 77/300\n",
      "\u001b[1m1/4\u001b[0m \u001b[32m━━━━━\u001b[0m\u001b[37m━━━━━━━━━━━━━━━\u001b[0m \u001b[1m0s\u001b[0m 21ms/step - loss: 2.8926 - mse: 2.8926\n",
      "Epoch 77: val_loss did not improve from 1.75533\n",
      "\u001b[1m4/4\u001b[0m \u001b[32m━━━━━━━━━━━━━━━━━━━━\u001b[0m\u001b[37m\u001b[0m \u001b[1m0s\u001b[0m 17ms/step - loss: 1.9210 - mse: 1.9210 - val_loss: 1.7555 - val_mse: 1.7555 - learning_rate: 2.5000e-04\n",
      "Epoch 78/300\n",
      "\u001b[1m1/4\u001b[0m \u001b[32m━━━━━\u001b[0m\u001b[37m━━━━━━━━━━━━━━━\u001b[0m \u001b[1m0s\u001b[0m 23ms/step - loss: 1.2045 - mse: 1.2045\n",
      "Epoch 78: val_loss improved from 1.75533 to 1.75511, saving model to best_q_model.h5\n"
     ]
    },
    {
     "name": "stderr",
     "output_type": "stream",
     "text": [
      "WARNING:absl:You are saving your model as an HDF5 file via `model.save()` or `keras.saving.save_model(model)`. This file format is considered legacy. We recommend using instead the native Keras format, e.g. `model.save('my_model.keras')` or `keras.saving.save_model(model, 'my_model.keras')`. \n"
     ]
    },
    {
     "name": "stdout",
     "output_type": "stream",
     "text": [
      "\u001b[1m4/4\u001b[0m \u001b[32m━━━━━━━━━━━━━━━━━━━━\u001b[0m\u001b[37m\u001b[0m \u001b[1m0s\u001b[0m 37ms/step - loss: 1.1100 - mse: 1.1100 - val_loss: 1.7551 - val_mse: 1.7551 - learning_rate: 2.5000e-04\n",
      "Epoch 79/300\n",
      "\u001b[1m1/4\u001b[0m \u001b[32m━━━━━\u001b[0m\u001b[37m━━━━━━━━━━━━━━━\u001b[0m \u001b[1m0s\u001b[0m 24ms/step - loss: 2.4972 - mse: 2.4972\n",
      "Epoch 79: val_loss did not improve from 1.75511\n",
      "\u001b[1m4/4\u001b[0m \u001b[32m━━━━━━━━━━━━━━━━━━━━\u001b[0m\u001b[37m\u001b[0m \u001b[1m0s\u001b[0m 20ms/step - loss: 1.3189 - mse: 1.3189 - val_loss: 1.7573 - val_mse: 1.7573 - learning_rate: 2.5000e-04\n",
      "Epoch 80/300\n",
      "\u001b[1m1/4\u001b[0m \u001b[32m━━━━━\u001b[0m\u001b[37m━━━━━━━━━━━━━━━\u001b[0m \u001b[1m0s\u001b[0m 22ms/step - loss: 1.5125 - mse: 1.5125\n",
      "Epoch 80: val_loss did not improve from 1.75511\n",
      "\u001b[1m4/4\u001b[0m \u001b[32m━━━━━━━━━━━━━━━━━━━━\u001b[0m\u001b[37m\u001b[0m \u001b[1m0s\u001b[0m 19ms/step - loss: 1.7268 - mse: 1.7268 - val_loss: 1.7607 - val_mse: 1.7607 - learning_rate: 2.5000e-04\n",
      "Epoch 81/300\n",
      "\u001b[1m1/4\u001b[0m \u001b[32m━━━━━\u001b[0m\u001b[37m━━━━━━━━━━━━━━━\u001b[0m \u001b[1m0s\u001b[0m 20ms/step - loss: 2.3698 - mse: 2.3698\n",
      "Epoch 81: val_loss did not improve from 1.75511\n",
      "\u001b[1m4/4\u001b[0m \u001b[32m━━━━━━━━━━━━━━━━━━━━\u001b[0m\u001b[37m\u001b[0m \u001b[1m0s\u001b[0m 20ms/step - loss: 1.6043 - mse: 1.6043 - val_loss: 1.7604 - val_mse: 1.7604 - learning_rate: 2.5000e-04\n",
      "Epoch 82/300\n",
      "\u001b[1m1/4\u001b[0m \u001b[32m━━━━━\u001b[0m\u001b[37m━━━━━━━━━━━━━━━\u001b[0m \u001b[1m0s\u001b[0m 21ms/step - loss: 2.1892 - mse: 2.1892\n",
      "Epoch 82: val_loss did not improve from 1.75511\n",
      "\u001b[1m4/4\u001b[0m \u001b[32m━━━━━━━━━━━━━━━━━━━━\u001b[0m\u001b[37m\u001b[0m \u001b[1m0s\u001b[0m 20ms/step - loss: 1.4790 - mse: 1.4790 - val_loss: 1.7598 - val_mse: 1.7598 - learning_rate: 2.5000e-04\n",
      "Epoch 83/300\n",
      "\u001b[1m1/4\u001b[0m \u001b[32m━━━━━\u001b[0m\u001b[37m━━━━━━━━━━━━━━━\u001b[0m \u001b[1m0s\u001b[0m 22ms/step - loss: 1.8817 - mse: 1.8817\n",
      "Epoch 83: val_loss did not improve from 1.75511\n",
      "\u001b[1m4/4\u001b[0m \u001b[32m━━━━━━━━━━━━━━━━━━━━\u001b[0m\u001b[37m\u001b[0m \u001b[1m0s\u001b[0m 21ms/step - loss: 1.6683 - mse: 1.6683 - val_loss: 1.7612 - val_mse: 1.7612 - learning_rate: 2.5000e-04\n",
      "Epoch 84/300\n",
      "\u001b[1m1/4\u001b[0m \u001b[32m━━━━━\u001b[0m\u001b[37m━━━━━━━━━━━━━━━\u001b[0m \u001b[1m0s\u001b[0m 84ms/step - loss: 1.8733 - mse: 1.8733\n",
      "Epoch 84: val_loss did not improve from 1.75511\n",
      "\u001b[1m4/4\u001b[0m \u001b[32m━━━━━━━━━━━━━━━━━━━━\u001b[0m\u001b[37m\u001b[0m \u001b[1m0s\u001b[0m 17ms/step - loss: 1.7323 - mse: 1.7323 - val_loss: 1.7673 - val_mse: 1.7673 - learning_rate: 2.5000e-04\n",
      "Epoch 85/300\n",
      "\u001b[1m1/4\u001b[0m \u001b[32m━━━━━\u001b[0m\u001b[37m━━━━━━━━━━━━━━━\u001b[0m \u001b[1m0s\u001b[0m 26ms/step - loss: 2.6787 - mse: 2.6787\n",
      "Epoch 85: val_loss did not improve from 1.75511\n",
      "\u001b[1m4/4\u001b[0m \u001b[32m━━━━━━━━━━━━━━━━━━━━\u001b[0m\u001b[37m\u001b[0m \u001b[1m0s\u001b[0m 19ms/step - loss: 1.6633 - mse: 1.6633 - val_loss: 1.7689 - val_mse: 1.7689 - learning_rate: 2.5000e-04\n",
      "Epoch 86/300\n",
      "\u001b[1m1/4\u001b[0m \u001b[32m━━━━━\u001b[0m\u001b[37m━━━━━━━━━━━━━━━\u001b[0m \u001b[1m0s\u001b[0m 26ms/step - loss: 0.7252 - mse: 0.7252\n",
      "Epoch 86: val_loss did not improve from 1.75511\n",
      "\u001b[1m4/4\u001b[0m \u001b[32m━━━━━━━━━━━━━━━━━━━━\u001b[0m\u001b[37m\u001b[0m \u001b[1m0s\u001b[0m 20ms/step - loss: 1.4945 - mse: 1.4945 - val_loss: 1.7700 - val_mse: 1.7700 - learning_rate: 2.5000e-04\n",
      "Epoch 87/300\n",
      "\u001b[1m1/4\u001b[0m \u001b[32m━━━━━\u001b[0m\u001b[37m━━━━━━━━━━━━━━━\u001b[0m \u001b[1m0s\u001b[0m 23ms/step - loss: 0.7246 - mse: 0.7246\n",
      "Epoch 87: val_loss did not improve from 1.75511\n",
      "\u001b[1m4/4\u001b[0m \u001b[32m━━━━━━━━━━━━━━━━━━━━\u001b[0m\u001b[37m\u001b[0m \u001b[1m0s\u001b[0m 18ms/step - loss: 1.5569 - mse: 1.5569 - val_loss: 1.7793 - val_mse: 1.7793 - learning_rate: 2.5000e-04\n",
      "Epoch 88/300\n",
      "\u001b[1m1/4\u001b[0m \u001b[32m━━━━━\u001b[0m\u001b[37m━━━━━━━━━━━━━━━\u001b[0m \u001b[1m0s\u001b[0m 20ms/step - loss: 1.2547 - mse: 1.2547\n",
      "Epoch 88: val_loss did not improve from 1.75511\n",
      "\u001b[1m4/4\u001b[0m \u001b[32m━━━━━━━━━━━━━━━━━━━━\u001b[0m\u001b[37m\u001b[0m \u001b[1m0s\u001b[0m 23ms/step - loss: 1.5438 - mse: 1.5438 - val_loss: 1.7901 - val_mse: 1.7901 - learning_rate: 2.5000e-04\n",
      "Epoch 89/300\n",
      "\u001b[1m1/4\u001b[0m \u001b[32m━━━━━\u001b[0m\u001b[37m━━━━━━━━━━━━━━━\u001b[0m \u001b[1m0s\u001b[0m 22ms/step - loss: 1.2230 - mse: 1.2230\n",
      "Epoch 89: val_loss did not improve from 1.75511\n",
      "\u001b[1m4/4\u001b[0m \u001b[32m━━━━━━━━━━━━━━━━━━━━\u001b[0m\u001b[37m\u001b[0m \u001b[1m0s\u001b[0m 20ms/step - loss: 1.4326 - mse: 1.4326 - val_loss: 1.8005 - val_mse: 1.8005 - learning_rate: 2.5000e-04\n",
      "Epoch 90/300\n",
      "\u001b[1m1/4\u001b[0m \u001b[32m━━━━━\u001b[0m\u001b[37m━━━━━━━━━━━━━━━\u001b[0m \u001b[1m0s\u001b[0m 26ms/step - loss: 1.5752 - mse: 1.5752\n",
      "Epoch 90: ReduceLROnPlateau reducing learning rate to 0.0001250000059371814.\n",
      "\n",
      "Epoch 90: val_loss did not improve from 1.75511\n",
      "\u001b[1m4/4\u001b[0m \u001b[32m━━━━━━━━━━━━━━━━━━━━\u001b[0m\u001b[37m\u001b[0m \u001b[1m0s\u001b[0m 20ms/step - loss: 1.8323 - mse: 1.8323 - val_loss: 1.8121 - val_mse: 1.8121 - learning_rate: 2.5000e-04\n",
      "Epoch 91/300\n",
      "\u001b[1m1/4\u001b[0m \u001b[32m━━━━━\u001b[0m\u001b[37m━━━━━━━━━━━━━━━\u001b[0m \u001b[1m0s\u001b[0m 23ms/step - loss: 0.9295 - mse: 0.9295\n",
      "Epoch 91: val_loss did not improve from 1.75511\n",
      "\u001b[1m4/4\u001b[0m \u001b[32m━━━━━━━━━━━━━━━━━━━━\u001b[0m\u001b[37m\u001b[0m \u001b[1m0s\u001b[0m 25ms/step - loss: 1.7308 - mse: 1.7308 - val_loss: 1.8264 - val_mse: 1.8264 - learning_rate: 1.2500e-04\n",
      "Epoch 92/300\n",
      "\u001b[1m1/4\u001b[0m \u001b[32m━━━━━\u001b[0m\u001b[37m━━━━━━━━━━━━━━━\u001b[0m \u001b[1m0s\u001b[0m 30ms/step - loss: 1.7626 - mse: 1.7626\n",
      "Epoch 92: val_loss did not improve from 1.75511\n",
      "\u001b[1m4/4\u001b[0m \u001b[32m━━━━━━━━━━━━━━━━━━━━\u001b[0m\u001b[37m\u001b[0m \u001b[1m0s\u001b[0m 23ms/step - loss: 1.4381 - mse: 1.4381 - val_loss: 1.8400 - val_mse: 1.8400 - learning_rate: 1.2500e-04\n",
      "Epoch 93/300\n",
      "\u001b[1m1/4\u001b[0m \u001b[32m━━━━━\u001b[0m\u001b[37m━━━━━━━━━━━━━━━\u001b[0m \u001b[1m0s\u001b[0m 25ms/step - loss: 2.0842 - mse: 2.0842\n",
      "Epoch 93: val_loss did not improve from 1.75511\n",
      "\u001b[1m4/4\u001b[0m \u001b[32m━━━━━━━━━━━━━━━━━━━━\u001b[0m\u001b[37m\u001b[0m \u001b[1m0s\u001b[0m 21ms/step - loss: 1.9814 - mse: 1.9814 - val_loss: 1.8495 - val_mse: 1.8495 - learning_rate: 1.2500e-04\n",
      "Epoch 94/300\n",
      "\u001b[1m1/4\u001b[0m \u001b[32m━━━━━\u001b[0m\u001b[37m━━━━━━━━━━━━━━━\u001b[0m \u001b[1m0s\u001b[0m 21ms/step - loss: 1.2559 - mse: 1.2559\n",
      "Epoch 94: val_loss did not improve from 1.75511\n",
      "\u001b[1m4/4\u001b[0m \u001b[32m━━━━━━━━━━━━━━━━━━━━\u001b[0m\u001b[37m\u001b[0m \u001b[1m0s\u001b[0m 19ms/step - loss: 1.9834 - mse: 1.9834 - val_loss: 1.8549 - val_mse: 1.8549 - learning_rate: 1.2500e-04\n",
      "Epoch 95/300\n",
      "\u001b[1m1/4\u001b[0m \u001b[32m━━━━━\u001b[0m\u001b[37m━━━━━━━━━━━━━━━\u001b[0m \u001b[1m0s\u001b[0m 25ms/step - loss: 1.9361 - mse: 1.9361\n",
      "Epoch 95: val_loss did not improve from 1.75511\n",
      "\u001b[1m4/4\u001b[0m \u001b[32m━━━━━━━━━━━━━━━━━━━━\u001b[0m\u001b[37m\u001b[0m \u001b[1m0s\u001b[0m 17ms/step - loss: 1.5808 - mse: 1.5808 - val_loss: 1.8546 - val_mse: 1.8546 - learning_rate: 1.2500e-04\n",
      "Epoch 96/300\n",
      "\u001b[1m1/4\u001b[0m \u001b[32m━━━━━\u001b[0m\u001b[37m━━━━━━━━━━━━━━━\u001b[0m \u001b[1m0s\u001b[0m 26ms/step - loss: 0.6993 - mse: 0.6993\n",
      "Epoch 96: val_loss did not improve from 1.75511\n",
      "\u001b[1m4/4\u001b[0m \u001b[32m━━━━━━━━━━━━━━━━━━━━\u001b[0m\u001b[37m\u001b[0m \u001b[1m0s\u001b[0m 23ms/step - loss: 1.6874 - mse: 1.6874 - val_loss: 1.8554 - val_mse: 1.8554 - learning_rate: 1.2500e-04\n",
      "Epoch 97/300\n",
      "\u001b[1m1/4\u001b[0m \u001b[32m━━━━━\u001b[0m\u001b[37m━━━━━━━━━━━━━━━\u001b[0m \u001b[1m0s\u001b[0m 28ms/step - loss: 0.6272 - mse: 0.6272\n",
      "Epoch 97: val_loss did not improve from 1.75511\n",
      "\u001b[1m4/4\u001b[0m \u001b[32m━━━━━━━━━━━━━━━━━━━━\u001b[0m\u001b[37m\u001b[0m \u001b[1m0s\u001b[0m 25ms/step - loss: 1.2851 - mse: 1.2851 - val_loss: 1.8648 - val_mse: 1.8648 - learning_rate: 1.2500e-04\n",
      "Epoch 98/300\n",
      "\u001b[1m1/4\u001b[0m \u001b[32m━━━━━\u001b[0m\u001b[37m━━━━━━━━━━━━━━━\u001b[0m \u001b[1m0s\u001b[0m 25ms/step - loss: 1.3610 - mse: 1.3610\n",
      "Epoch 98: val_loss did not improve from 1.75511\n",
      "\u001b[1m4/4\u001b[0m \u001b[32m━━━━━━━━━━━━━━━━━━━━\u001b[0m\u001b[37m\u001b[0m \u001b[1m0s\u001b[0m 20ms/step - loss: 1.6138 - mse: 1.6138 - val_loss: 1.8657 - val_mse: 1.8657 - learning_rate: 1.2500e-04\n",
      "Epoch 99/300\n",
      "\u001b[1m1/4\u001b[0m \u001b[32m━━━━━\u001b[0m\u001b[37m━━━━━━━━━━━━━━━\u001b[0m \u001b[1m0s\u001b[0m 20ms/step - loss: 2.4045 - mse: 2.4045\n",
      "Epoch 99: val_loss did not improve from 1.75511\n",
      "\u001b[1m4/4\u001b[0m \u001b[32m━━━━━━━━━━━━━━━━━━━━\u001b[0m\u001b[37m\u001b[0m \u001b[1m0s\u001b[0m 21ms/step - loss: 2.1107 - mse: 2.1107 - val_loss: 1.8741 - val_mse: 1.8741 - learning_rate: 1.2500e-04\n",
      "Epoch 100/300\n",
      "\u001b[1m1/4\u001b[0m \u001b[32m━━━━━\u001b[0m\u001b[37m━━━━━━━━━━━━━━━\u001b[0m \u001b[1m0s\u001b[0m 20ms/step - loss: 1.2928 - mse: 1.2928\n",
      "Epoch 100: val_loss did not improve from 1.75511\n",
      "\u001b[1m4/4\u001b[0m \u001b[32m━━━━━━━━━━━━━━━━━━━━\u001b[0m\u001b[37m\u001b[0m \u001b[1m0s\u001b[0m 25ms/step - loss: 2.0143 - mse: 2.0143 - val_loss: 1.8747 - val_mse: 1.8747 - learning_rate: 1.2500e-04\n",
      "Epoch 101/300\n",
      "\u001b[1m1/4\u001b[0m \u001b[32m━━━━━\u001b[0m\u001b[37m━━━━━━━━━━━━━━━\u001b[0m \u001b[1m0s\u001b[0m 22ms/step - loss: 2.0354 - mse: 2.0354\n",
      "Epoch 101: val_loss did not improve from 1.75511\n",
      "\u001b[1m4/4\u001b[0m \u001b[32m━━━━━━━━━━━━━━━━━━━━\u001b[0m\u001b[37m\u001b[0m \u001b[1m0s\u001b[0m 23ms/step - loss: 1.6272 - mse: 1.6272 - val_loss: 1.8774 - val_mse: 1.8774 - learning_rate: 1.2500e-04\n",
      "Epoch 102/300\n",
      "\u001b[1m1/4\u001b[0m \u001b[32m━━━━━\u001b[0m\u001b[37m━━━━━━━━━━━━━━━\u001b[0m \u001b[1m0s\u001b[0m 26ms/step - loss: 1.4549 - mse: 1.4549\n",
      "Epoch 102: ReduceLROnPlateau reducing learning rate to 6.25000029685907e-05.\n",
      "\n",
      "Epoch 102: val_loss did not improve from 1.75511\n",
      "\u001b[1m4/4\u001b[0m \u001b[32m━━━━━━━━━━━━━━━━━━━━\u001b[0m\u001b[37m\u001b[0m \u001b[1m0s\u001b[0m 32ms/step - loss: 1.5861 - mse: 1.5861 - val_loss: 1.8857 - val_mse: 1.8857 - learning_rate: 1.2500e-04\n",
      "Epoch 103/300\n",
      "\u001b[1m1/4\u001b[0m \u001b[32m━━━━━\u001b[0m\u001b[37m━━━━━━━━━━━━━━━\u001b[0m \u001b[1m0s\u001b[0m 35ms/step - loss: 3.1569 - mse: 3.1569\n",
      "Epoch 103: val_loss did not improve from 1.75511\n",
      "\u001b[1m4/4\u001b[0m \u001b[32m━━━━━━━━━━━━━━━━━━━━\u001b[0m\u001b[37m\u001b[0m \u001b[1m0s\u001b[0m 24ms/step - loss: 1.6169 - mse: 1.6169 - val_loss: 1.8975 - val_mse: 1.8975 - learning_rate: 6.2500e-05\n",
      "Epoch 103: early stopping\n",
      "Restoring model weights from the end of the best epoch: 78.\n"
     ]
    }
   ],
   "source": [
    "# Step 10: Train the model\n",
    "history = model.fit(\n",
    "    X_train, y_train,\n",
    "    validation_split=0.18,   # small portion of train used for val\n",
    "    epochs=300,\n",
    "    batch_size=16,\n",
    "    callbacks=callbacks,\n",
    "    verbose=1\n",
    ")\n"
   ]
  },
  {
   "cell_type": "code",
   "execution_count": 28,
   "id": "f180c178",
   "metadata": {},
   "outputs": [
    {
     "data": {
      "image/png": "[encoded data removed]",
      "text/plain": [
       "<Figure size 800x400 with 1 Axes>"
      ]
     },
     "metadata": {},
     "output_type": "display_data"
    }
   ],
   "source": [
    "# Step 11: Plot training history (loss)\n",
    "plt.figure(figsize=(8,4))\n",
    "plt.plot(history.history['loss'], label='train_loss')\n",
    "plt.plot(history.history['val_loss'], label='val_loss')\n",
    "plt.yscale('log')   # sometimes helpful\n",
    "plt.xlabel('Epoch')\n",
    "plt.ylabel('MSE Loss')\n",
    "plt.legend()\n",
    "plt.title('Training History')\n",
    "plt.show()\n"
   ]
  },
  {
   "cell_type": "code",
   "execution_count": 29,
   "id": "42c79581",
   "metadata": {},
   "outputs": [
    {
     "name": "stdout",
     "output_type": "stream",
     "text": [
      "Test metrics (transformed-space): [27.923974990844727, 27.923974990844727]\n",
      "\u001b[1m1/1\u001b[0m \u001b[32m━━━━━━━━━━━━━━━━━━━━\u001b[0m\u001b[37m\u001b[0m \u001b[1m0s\u001b[0m 83ms/step\n"
     ]
    }
   ],
   "source": [
    "# Step 12: Evaluate on test set and predict (inverse transforms included)\n",
    "test_metrics = model.evaluate(X_test, y_test, verbose=0)\n",
    "print(\"Test metrics (transformed-space):\", test_metrics)\n",
    "\n",
    "# Predictions in transformed (scaled) space\n",
    "y_pred_scaled = model.predict(X_test)\n",
    "\n",
    "# Inverse scale to original transformed target (log-space)\n",
    "y_pred_transformed = scaler_y.inverse_transform(y_pred_scaled)\n",
    "y_test_transformed = scaler_y.inverse_transform(y_test)\n",
    "\n",
    "# Inverse log1p to actual Q (undo log1p and potential shift)\n",
    "def inverse_log_transform(arr_transformed, shift=y_shift_info):\n",
    "    arr_raw = np.expm1(arr_transformed)  # exp(arr)-1\n",
    "    if shift != 0.0:\n",
    "        arr_raw = arr_raw - shift\n",
    "    return arr_raw\n",
    "\n",
    "y_pred_Q = inverse_log_transform(y_pred_transformed)\n",
    "y_test_Q = inverse_log_transform(y_test_transformed)\n",
    "\n",
    "# Flatten for metrics\n",
    "y_pred_Q = y_pred_Q.flatten()\n",
    "y_test_Q = y_test_Q.flatten()\n"
   ]
  },
  {
   "cell_type": "code",
   "execution_count": 30,
   "id": "0000a30b",
   "metadata": {},
   "outputs": [
    {
     "name": "stdout",
     "output_type": "stream",
     "text": [
      "Q Prediction - Real units:\n",
      " MSE: 249052.976494\n",
      " MAE: 332.046142\n",
      " R2 : 0.061974\n"
     ]
    }
   ],
   "source": [
    "# Step 13: Metrics (real units)\n",
    "mse_q = mean_squared_error(y_test_Q, y_pred_Q)\n",
    "mae_q = mean_absolute_error(y_test_Q, y_pred_Q)\n",
    "r2_q = r2_score(y_test_Q, y_pred_Q)\n",
    "\n",
    "print(\"Q Prediction - Real units:\")\n",
    "print(f\" MSE: {mse_q:.6f}\")\n",
    "print(f\" MAE: {mae_q:.6f}\")\n",
    "print(f\" R2 : {r2_q:.6f}\")\n"
   ]
  },
  {
   "cell_type": "code",
   "execution_count": 31,
   "id": "5f3d9120",
   "metadata": {},
   "outputs": [
    {
     "data": {
      "image/png": "[encoded data removed]",
      "text/plain": [
       "<Figure size 500x500 with 1 Axes>"
      ]
     },
     "metadata": {},
     "output_type": "display_data"
    },
    {
     "data": {
      "image/png": "[encoded data removed]",
      "text/plain": [
       "<Figure size 600x300 with 1 Axes>"
      ]
     },
     "metadata": {},
     "output_type": "display_data"
    }
   ],
   "source": [
    "# Step 14: Visual checks (scatter + error histogram)\n",
    "plt.figure(figsize=(5,5))\n",
    "plt.scatter(y_test_Q, y_pred_Q, alpha=0.7)\n",
    "mn, mx = min(y_test_Q.min(), y_pred_Q.min()), max(y_test_Q.max(), y_pred_Q.max())\n",
    "plt.plot([mn,mx],[mn,mx],'r--', linewidth=1)\n",
    "plt.xlabel('True Q')\n",
    "plt.ylabel('Predicted Q')\n",
    "plt.title('True vs Predicted Q')\n",
    "plt.show()\n",
    "\n",
    "plt.figure(figsize=(6,3))\n",
    "plt.hist(y_test_Q - y_pred_Q, bins=40)\n",
    "plt.xlabel('Prediction Error (True - Pred)')\n",
    "plt.title('Error Distribution')\n",
    "plt.show()\n"
   ]
  },
  {
   "cell_type": "code",
   "execution_count": 32,
   "id": "570bd4af",
   "metadata": {},
   "outputs": [
    {
     "name": "stderr",
     "output_type": "stream",
     "text": [
      "WARNING:absl:You are saving your model as an HDF5 file via `model.save()` or `keras.saving.save_model(model)`. This file format is considered legacy. We recommend using instead the native Keras format, e.g. `model.save('my_model.keras')` or `keras.saving.save_model(model, 'my_model.keras')`. \n"
     ]
    },
    {
     "name": "stdout",
     "output_type": "stream",
     "text": [
      "Saved model and scalers.\n"
     ]
    }
   ],
   "source": [
    "# Step 15: Save final model and scalers for later use\n",
    "model.save(\"final_q_model.h5\")\n",
    "import joblib\n",
    "joblib.dump(scaler_X, \"scaler_X.pkl\")\n",
    "joblib.dump(scaler_y, \"scaler_y.pkl\")\n",
    "print(\"Saved model and scalers.\")\n"
   ]
  },
  {
   "cell_type": "code",
   "execution_count": 33,
   "id": "d931f247",
   "metadata": {},
   "outputs": [],
   "source": [
    "# Utility: function to predict Q from raw inputs easily\n",
    "def predict_Q(radius, frequency, imag_freq, model, scaler_X, scaler_y, shift=y_shift_info):\n",
    "    # Build feature vector same as training\n",
    "    arr = np.array([[radius, frequency, imag_freq,\n",
    "                     radius**2, frequency**2, imag_freq**2,\n",
    "                     radius**3, frequency**3, imag_freq**3]])\n",
    "    arr_s = scaler_X.transform(arr)\n",
    "    y_scaled_pred = model.predict(arr_s)\n",
    "    y_trans = scaler_y.inverse_transform(y_scaled_pred)\n",
    "    q_pred = np.expm1(y_trans)  # inverse of log1p\n",
    "    if shift != 0.0:\n",
    "        q_pred = q_pred - shift\n",
    "    return float(q_pred.flatten()[0])\n",
    "\n",
    "# Example usage:\n",
    "# loaded_model = model  # or use tf.keras.models.load_model('final_q_model.h5')\n",
    "# loaded_scalerX = joblib.load(\"scaler_X.pkl\")\n",
    "# loaded_scalerY = joblib.load(\"scaler_y.pkl\")\n",
    "# print(\"Example prediction:\", predict_Q(0.2, 0.303599, 0.000727, loaded_model, loaded_scalerX, loaded_scalerY))\n"
   ]
  }
 ],
 "metadata": {
  "kernelspec": {
   "display_name": "Python 3",
   "language": "python",
   "name": "python3"
  },
  "language_info": {
   "codemirror_mode": {
    "name": "ipython",
    "version": 3
   },
   "file_extension": ".py",
   "mimetype": "text/x-python",
   "name": "python",
   "nbconvert_exporter": "python",
   "pygments_lexer": "ipython3",
   "version": "3.10.18"
  }
 },
 "nbformat": 4,
 "nbformat_minor": 5
}
